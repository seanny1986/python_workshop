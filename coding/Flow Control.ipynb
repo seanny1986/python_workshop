{
 "cells": [
  {
   "cell_type": "markdown",
   "metadata": {},
   "source": [
    "## Loops and Flow Control"
   ]
  },
  {
   "cell_type": "markdown",
   "metadata": {},
   "source": [
    "In this notebook, we'll go through simple loops, and flow control of our code. Loops are blocks of code that will run continuously until a set termination condition is reached. Flow control refers to blocks of code that execute only if a given condition is met."
   ]
  },
  {
   "cell_type": "markdown",
   "metadata": {},
   "source": [
    "### Flow Control"
   ]
  },
  {
   "cell_type": "markdown",
   "metadata": {},
   "source": [
    "We typically use if blocks to control the flow of our program. For example:"
   ]
  },
  {
   "cell_type": "code",
   "execution_count": 2,
   "metadata": {},
   "outputs": [
    {
     "name": "stdout",
     "output_type": "stream",
     "text": [
      "x is less than 6\n"
     ]
    }
   ],
   "source": [
    "x = 5\n",
    "if x > 6:\n",
    "    print(\"x is greater than 6\")\n",
    "elif x == 6:\n",
    "    print(\"x is equal to 6\")\n",
    "else:\n",
    "    print(\"x is less than 6\")"
   ]
  },
  {
   "cell_type": "markdown",
   "metadata": {},
   "source": [
    "The if statement and elif statement execute in turn. The if statement will check if x > 6, and then if it is, will execute. If it isn't, the elif statement will check if x == 6, and if the answer is True, it will execute. Finally, if the previous answers are false, then x must be less than 6, and the else block will execute.\n",
    "\n",
    "You can also compare objects by type:"
   ]
  },
  {
   "cell_type": "code",
   "execution_count": 3,
   "metadata": {},
   "outputs": [
    {
     "name": "stdout",
     "output_type": "stream",
     "text": [
      "x is an integer.\n"
     ]
    }
   ],
   "source": [
    "if type(x) is int:\n",
    "    print(\"x is an integer.\")\n",
    "else:\n",
    "    print(\"x is not an integer.\")"
   ]
  },
  {
   "cell_type": "markdown",
   "metadata": {},
   "source": [
    "Finally, we can use logical operators **or** and **and** to chain multiple statements together, and nest our if blocks to achieve more complex behaviour. For example:"
   ]
  },
  {
   "cell_type": "code",
   "execution_count": 5,
   "metadata": {},
   "outputs": [
    {
     "name": "stdout",
     "output_type": "stream",
     "text": [
      "x is an integer less than 6.\n"
     ]
    }
   ],
   "source": [
    "if type(x) is int and x > 6:\n",
    "    print(\"x is an integer greater than 6.\")\n",
    "elif type(x) is not int:\n",
    "    if type(x) is float and x > 6:\n",
    "        print(\"x is a non-integer value greater than 6.\")\n",
    "    elif type(x) is float and x < 6:\n",
    "        print(\"x is a non-integer value less than 6.\")\n",
    "elif type(x) is int and x == 6:\n",
    "    print(\"x is the integer value 6.\")\n",
    "elif type(x) is int and x < 6:\n",
    "    print(\"x is an integer less than 6.\")\n",
    "else:\n",
    "    print(\"x is not an integer or a floating point value\")"
   ]
  },
  {
   "cell_type": "markdown",
   "metadata": {},
   "source": [
    "### Loops"
   ]
  },
  {
   "cell_type": "markdown",
   "metadata": {},
   "source": [
    "There are two types of loops we normally use: for loops, and while loops. For loops will iterate through a range, until the end of the range is reached. For example:"
   ]
  },
  {
   "cell_type": "code",
   "execution_count": 1,
   "metadata": {},
   "outputs": [
    {
     "name": "stdout",
     "output_type": "stream",
     "text": [
      "0\n",
      "1\n",
      "2\n",
      "3\n",
      "4\n"
     ]
    }
   ],
   "source": [
    "for i in range(5):\n",
    "    print(i)"
   ]
  },
  {
   "cell_type": "markdown",
   "metadata": {},
   "source": [
    "Range is an inbuilt python function that is iterable; that is, we can loop through it until we reach the end. Notice that it starts at zero and ends at 4. We can loop through the numbers 1 to five using:"
   ]
  },
  {
   "cell_type": "code",
   "execution_count": 13,
   "metadata": {},
   "outputs": [
    {
     "name": "stdout",
     "output_type": "stream",
     "text": [
      "This is what a range function looks like when you print it:  range(0, 5)\n",
      "\n",
      "Iterating through the range (1,5):\n",
      "1\n",
      "2\n",
      "3\n",
      "4\n",
      "5\n"
     ]
    }
   ],
   "source": [
    "print(\"This is what a range function looks like when you print it: \", range(5))\n",
    "print()\n",
    "print(\"Iterating through the range (1,5):\")\n",
    "for i in range(1, 5+1):\n",
    "    print(i)"
   ]
  },
  {
   "cell_type": "markdown",
   "metadata": {},
   "source": [
    "For loops are generally safe, since they are guaranteed to terminate. While loops are more powerful, but can run indefinitely if you have a bad termination condition. In the following, we ensure that our loop terminates after a specified number of iterations:"
   ]
  },
  {
   "cell_type": "code",
   "execution_count": 11,
   "metadata": {},
   "outputs": [
    {
     "name": "stdout",
     "output_type": "stream",
     "text": [
      "0\n",
      "1\n",
      "2\n",
      "3\n",
      "4\n"
     ]
    }
   ],
   "source": [
    "i = 0\n",
    "running = True\n",
    "while running:\n",
    "    print(i)\n",
    "    if i >= 4:\n",
    "        running = False\n",
    "    i += 1"
   ]
  },
  {
   "cell_type": "markdown",
   "metadata": {},
   "source": [
    "As with other blocks of code, we can nest loops and other types of statement to achieve more complex behavior. Be aware that nesting loops increases the polynomial order of your program by 1 for each loop, which can dramatically increase running time. For example, an outer loop that runs 5 times, and an inner loop that runs 5 times, will result in a total of 25 operations. Adding a third inner loop that runs 5 times results in 125 operations. The following is a short $\\mathcal{O}(n^2)$ sorting algorithm that uses all of the ideas we have covered above:"
   ]
  },
  {
   "cell_type": "code",
   "execution_count": 30,
   "metadata": {},
   "outputs": [
    {
     "name": "stdout",
     "output_type": "stream",
     "text": [
      "Our list of values is:\n",
      "[41, 68, 30, 30, 17, 96, 22, 30, 20, 5, 80, 4, 90, 64, 31, 27, 50, 64, 8, 5]\n",
      "\n",
      "Our sorted list is:\n",
      "[4, 5, 5, 8, 17, 20, 22, 27, 30, 30, 30, 31, 41, 50, 64, 64, 68, 80, 90, 96]\n",
      "\n",
      "The number of operations is:\n",
      "210\n"
     ]
    }
   ],
   "source": [
    "from random import randint\n",
    "\n",
    "numbers = [randint(0, 100) for i in range(20)]\n",
    "print(\"Our list of values is:\")\n",
    "print(numbers)\n",
    "sorted_list = []\n",
    "k = 0\n",
    "running = True\n",
    "while running:\n",
    "    if not numbers:\n",
    "        break\n",
    "    min_idx = 0\n",
    "    min_val = numbers[min_idx]\n",
    "    for i, n in enumerate(numbers):\n",
    "        if n < min_val:\n",
    "            min_val = n\n",
    "            min_idx = i\n",
    "        k += 1\n",
    "    sorted_list.append(min_val)\n",
    "    numbers.pop(min_idx)\n",
    "print()\n",
    "print(\"Our sorted list is:\")\n",
    "print(sorted_list)\n",
    "print()\n",
    "print(\"The number of operations is:\")\n",
    "print(k)"
   ]
  },
  {
   "cell_type": "markdown",
   "metadata": {},
   "source": [
    "Note that in this example we used a break condition to terminate the loop, rather than a boolean. The reason for this is that a break will terminate the loop immediately, whereas a boolean will terminate the loop after the current pass is done. This can throw up an error in this case, since the script will try to access a non-existent element of the empty list."
   ]
  }
 ],
 "metadata": {
  "kernelspec": {
   "display_name": "Python 3",
   "language": "python",
   "name": "python3"
  },
  "language_info": {
   "codemirror_mode": {
    "name": "ipython",
    "version": 3
   },
   "file_extension": ".py",
   "mimetype": "text/x-python",
   "name": "python",
   "nbconvert_exporter": "python",
   "pygments_lexer": "ipython3",
   "version": "3.6.5"
  }
 },
 "nbformat": 4,
 "nbformat_minor": 2
}

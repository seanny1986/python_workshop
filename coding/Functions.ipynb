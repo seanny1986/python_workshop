{
 "cells": [
  {
   "cell_type": "markdown",
   "metadata": {},
   "source": [
    "## Functions"
   ]
  },
  {
   "cell_type": "markdown",
   "metadata": {},
   "source": [
    "Functions are the building blocks of our code. They are normally snippets that get called repeatedly, meaning that it would be tedious to repetively write out the same code over and over again. A function takes as input a set of arguments, performs a series of operations using the arguments, and then returns some object. However, most of these components are optional -- a function in Python doesn't necessarily need an argument, and it doesn't have to return anything either. The only requirements are a function definition, and some kind of action within the function's scope. For example, the following is a valid function that does nothing:"
   ]
  },
  {
   "cell_type": "code",
   "execution_count": 17,
   "metadata": {},
   "outputs": [],
   "source": [
    "def i_do_nothing():\n",
    "    pass\n",
    "\n",
    "i_do_nothing()"
   ]
  },
  {
   "cell_type": "markdown",
   "metadata": {},
   "source": [
    "We call a function as shown in line 4. More interesting functions will generally do something with the arguments that they are given. For example, the following is a function that returns the probability density of a variable from a normal distribution with a given mean and standard deviation:"
   ]
  },
  {
   "cell_type": "code",
   "execution_count": 35,
   "metadata": {},
   "outputs": [],
   "source": [
    "from math import exp, sqrt, pi\n",
    "\n",
    "def gaussian_probability_density(x, mu=0, sigma=1):\n",
    "    return (1/sqrt(2*pi*sigma**2))*exp(-(x-mu)**2/2/sigma**2)"
   ]
  },
  {
   "cell_type": "markdown",
   "metadata": {},
   "source": [
    "When we specify a value for an argument, we are giving it a default value. That is, we can call this function using either the default or a specific argument:"
   ]
  },
  {
   "cell_type": "code",
   "execution_count": 34,
   "metadata": {},
   "outputs": [
    {
     "name": "stdout",
     "output_type": "stream",
     "text": [
      "Using our own arguments:\n",
      "0.17603266338214976\n",
      "\n",
      "Using default arguments:\n",
      "0.24197072451914337\n"
     ]
    }
   ],
   "source": [
    "print(\"Using our own arguments:\")\n",
    "print(gaussian_probability_density(1, 0, 2))\n",
    "print()\n",
    "print(\"Using default arguments:\")\n",
    "print(gaussian_probability_density(1))"
   ]
  },
  {
   "cell_type": "markdown",
   "metadata": {},
   "source": [
    "When we use the default argument, we only need to provide a value for the arguments where the default isn't specified.\n",
    "\n",
    "#### Nesting\n",
    "\n",
    "Functions can be nested within one another where necessary:"
   ]
  },
  {
   "cell_type": "code",
   "execution_count": 1,
   "metadata": {},
   "outputs": [
    {
     "name": "stdout",
     "output_type": "stream",
     "text": [
      "The nested function output is: \n",
      "16\n"
     ]
    }
   ],
   "source": [
    "def nested_function(x):\n",
    "    def inner_function(x):\n",
    "        return x**2\n",
    "    return inner_function(x)**2\n",
    "print(\"The nested function output is: \")\n",
    "print(nested_function(2))"
   ]
  },
  {
   "cell_type": "markdown",
   "metadata": {},
   "source": [
    "Nesting can be useful in optimization tasks where you might have an inner cost function that a wider optimization function calls repeatedly. You could also split the two functions apart, but -- due to scoping, covered below -- the visibility of certain variables might become an issue."
   ]
  },
  {
   "cell_type": "markdown",
   "metadata": {},
   "source": [
    "#### Returns\n",
    "\n",
    "Not all functions need to return anything:"
   ]
  },
  {
   "cell_type": "code",
   "execution_count": 9,
   "metadata": {},
   "outputs": [
    {
     "name": "stdout",
     "output_type": "stream",
     "text": [
      "I give you nothing!\n"
     ]
    }
   ],
   "source": [
    "def this_returns_nothing():\n",
    "    print(\"I give you nothing!\")\n",
    "this_returns_nothing()"
   ]
  },
  {
   "cell_type": "markdown",
   "metadata": {},
   "source": [
    "It depends on the program, but sometimes this can be useful for the organization of ideas.\n",
    "\n",
    "For functions that do return, there are two philosophies on how your code should be organized. The first is that you should only ever have one return statement:"
   ]
  },
  {
   "cell_type": "code",
   "execution_count": 37,
   "metadata": {},
   "outputs": [
    {
     "name": "stdout",
     "output_type": "stream",
     "text": [
      "x is greater than zero.\n"
     ]
    }
   ],
   "source": [
    "def single_return(x):\n",
    "    if x < 0:\n",
    "        var = \"x is less than zero.\"\n",
    "    elif x == 0:\n",
    "        var = \"x is equal to zero.\"\n",
    "    elif x > 0:\n",
    "        var = \"x is greater than zero.\"\n",
    "    return var\n",
    "\n",
    "print(single_return(5))"
   ]
  },
  {
   "cell_type": "markdown",
   "metadata": {},
   "source": [
    "The second is that you should aim for conciseness and readability of code, even if this means having multiple return statements. For example:"
   ]
  },
  {
   "cell_type": "code",
   "execution_count": 38,
   "metadata": {},
   "outputs": [
    {
     "name": "stdout",
     "output_type": "stream",
     "text": [
      "x is equal to zero.\n"
     ]
    }
   ],
   "source": [
    "def multi_return(x):\n",
    "    if x < 0:\n",
    "        return \"x is less than zero\"\n",
    "    elif x == 0:\n",
    "        return \"x is equal to zero.\"\n",
    "    elif x > 0:\n",
    "        return \"x is greater than zero.\"\n",
    "    \n",
    "print(multi_return(0))"
   ]
  },
  {
   "cell_type": "markdown",
   "metadata": {},
   "source": [
    "The second function is syntactically shorter (and in certain cases, will be significantly so), but this practice can lead to problems if return statements are buried in the middle of a large function. My advice would be to break your code into smaller chunks (don't have colossal functions where you can help it), and use multiple return statements to make your code more explicit. This will have the added advantage of being easier to debug.\n",
    "\n",
    "Finally, we come to the topic of returning more than one value. This is straightforward -- in Python, we can return as many values as we like, and choose how we access them. For example:"
   ]
  },
  {
   "cell_type": "code",
   "execution_count": 45,
   "metadata": {},
   "outputs": [
    {
     "name": "stdout",
     "output_type": "stream",
     "text": [
      "We can grab all values if we know how many there are:\n",
      "x: -1.1286, log probability: -1.5558\n",
      "\n",
      "Or we can grab the outputs as a tuple:\n",
      "(-0.5974822505680031, -1.0974310530765758)\n",
      "-0.5974822505680031\n",
      "-1.0974310530765758\n"
     ]
    }
   ],
   "source": [
    "import numpy as np\n",
    "from math import log\n",
    "\n",
    "def get_sample_and_logprob(mu, sigma):\n",
    "    sample = mu+sigma*np.random.randn()\n",
    "    log_prob = log(gaussian_probability_density(sample, mu, sigma))\n",
    "    return sample, log_prob\n",
    "\n",
    "print(\"We can grab all values if we know how many there are:\")\n",
    "x, lp = get_sample_and_logprob(0, 1)\n",
    "print(\"x: {:.4f}, log probability: {:.4f}\".format(x, lp))\n",
    "print()\n",
    "print(\"Or we can grab the outputs as a tuple:\")\n",
    "output = get_sample_and_logprob(0, 1)\n",
    "print(output)\n",
    "print(output[0])\n",
    "print(output[1])"
   ]
  },
  {
   "cell_type": "markdown",
   "metadata": {},
   "source": [
    "#### Variable Arguments and Keyworded Arguments\n"
   ]
  },
  {
   "cell_type": "markdown",
   "metadata": {},
   "source": [
    "In the cases we've looked at previously, the number of input arguments has been fixed, but what if we don't know how many arguments there are? This is where \\*args and \\*\\*kwargs come in handy. To demonstrate the idea, let's write a function that multiplies values together:"
   ]
  },
  {
   "cell_type": "code",
   "execution_count": 46,
   "metadata": {},
   "outputs": [
    {
     "name": "stdout",
     "output_type": "stream",
     "text": [
      "3 times 7 is: 21\n"
     ]
    }
   ],
   "source": [
    "def multiply(a, b):\n",
    "    return a*b\n",
    "\n",
    "x, y = 3, 7\n",
    "print(\"{} times {} is: {}\".format(x, y, multiply(x,y)))"
   ]
  },
  {
   "cell_type": "markdown",
   "metadata": {},
   "source": [
    "Now, we'll try to pass this function 3 arguments and see what happens:"
   ]
  },
  {
   "cell_type": "code",
   "execution_count": 47,
   "metadata": {},
   "outputs": [
    {
     "ename": "TypeError",
     "evalue": "multiply() takes 2 positional arguments but 3 were given",
     "output_type": "error",
     "traceback": [
      "\u001b[0;31m---------------------------------------------------------------------------\u001b[0m",
      "\u001b[0;31mTypeError\u001b[0m                                 Traceback (most recent call last)",
      "\u001b[0;32m<ipython-input-47-79840eb2f660>\u001b[0m in \u001b[0;36m<module>\u001b[0;34m()\u001b[0m\n\u001b[1;32m      1\u001b[0m \u001b[0mz\u001b[0m \u001b[0;34m=\u001b[0m \u001b[0;36m6\u001b[0m\u001b[0;34m\u001b[0m\u001b[0m\n\u001b[0;32m----> 2\u001b[0;31m \u001b[0mmultiply\u001b[0m\u001b[0;34m(\u001b[0m\u001b[0mx\u001b[0m\u001b[0;34m,\u001b[0m\u001b[0my\u001b[0m\u001b[0;34m,\u001b[0m\u001b[0mz\u001b[0m\u001b[0;34m)\u001b[0m\u001b[0;34m\u001b[0m\u001b[0m\n\u001b[0m",
      "\u001b[0;31mTypeError\u001b[0m: multiply() takes 2 positional arguments but 3 were given"
     ]
    }
   ],
   "source": [
    "z = 6\n",
    "multiply(x,y,z)"
   ]
  },
  {
   "cell_type": "markdown",
   "metadata": {},
   "source": [
    "Hmmmmm that's a bit problematic. Let's modify this code to use a variable number of arguments instead:"
   ]
  },
  {
   "cell_type": "code",
   "execution_count": 49,
   "metadata": {},
   "outputs": [
    {
     "name": "stdout",
     "output_type": "stream",
     "text": [
      "3 times 7 times 6 is: 126\n"
     ]
    }
   ],
   "source": [
    "def multiply(*args):\n",
    "    z = 1\n",
    "    for num in args:\n",
    "        z *= num\n",
    "    return z\n",
    "\n",
    "print(\"{} times {} times {} is: {}\".format(x, y, z, multiply(x,y,z)))"
   ]
  },
  {
   "cell_type": "markdown",
   "metadata": {},
   "source": [
    "Success! We can pass this function any number of values, and it will multiply them until our computer runs out of memory.\n",
    "\n",
    "Keyworded arguments are similar, but the argument is indexed using a keyword. To give you an example:"
   ]
  },
  {
   "cell_type": "code",
   "execution_count": 50,
   "metadata": {},
   "outputs": [
    {
     "name": "stdout",
     "output_type": "stream",
     "text": [
      "The value of name_1 is Alex\n",
      "The value of name_2 is Gray\n",
      "The value of name_3 is Harper\n",
      "The value of name_4 is Phoenix\n",
      "The value of name_5 is Remy\n",
      "The value of name_6 is Val\n"
     ]
    }
   ],
   "source": [
    "def print_values(**kwargs):\n",
    "    for key, value in kwargs.items():\n",
    "        print(\"The value of {} is {}\".format(key, value))\n",
    "\n",
    "print_values(\n",
    "            name_1=\"Alex\",\n",
    "            name_2=\"Gray\",\n",
    "            name_3=\"Harper\",\n",
    "            name_4=\"Phoenix\",\n",
    "            name_5=\"Remy\",\n",
    "            name_6=\"Val\"\n",
    "        )"
   ]
  },
  {
   "cell_type": "markdown",
   "metadata": {},
   "source": [
    "You might use this type of structure for navigating data contained in dictionaries, or writing tailored messages to a list of people."
   ]
  },
  {
   "cell_type": "markdown",
   "metadata": {},
   "source": [
    "### Scoping"
   ]
  },
  {
   "cell_type": "markdown",
   "metadata": {},
   "source": [
    "An important component of programming is called scoping, or encapsulation. Essentially, it refers to what variables are observable at what levels of a program. For example:"
   ]
  },
  {
   "cell_type": "code",
   "execution_count": 12,
   "metadata": {},
   "outputs": [
    {
     "name": "stdout",
     "output_type": "stream",
     "text": [
      "outside\n",
      "inside\n",
      "outside\n"
     ]
    }
   ],
   "source": [
    "temp = \"outside\" # this is a string variable called temp\n",
    "\n",
    "def this_also_returns_nothing():\n",
    "    temp = \"inside\"\n",
    "    print(temp)\n",
    "\n",
    "def and_for_my_next_trick():\n",
    "    print(temp)\n",
    "    \n",
    "print(temp)\n",
    "this_also_returns_nothing()\n",
    "and_for_my_next_trick()"
   ]
  },
  {
   "cell_type": "markdown",
   "metadata": {},
   "source": [
    "The temp variable inside the function this_also_returns_nothing() takes priority over the temp variable defined outside the function. However, the function and_for_my_next_trick() has no variable named temp defined within its scope, and can see the temp variable defined outside the function."
   ]
  },
  {
   "cell_type": "markdown",
   "metadata": {},
   "source": [
    "### Lambda Functions"
   ]
  },
  {
   "cell_type": "markdown",
   "metadata": {},
   "source": [
    "Lambda functions are one liners that can be used if a function is simple or short. For example:"
   ]
  },
  {
   "cell_type": "code",
   "execution_count": 18,
   "metadata": {},
   "outputs": [
    {
     "name": "stdout",
     "output_type": "stream",
     "text": [
      "The square of 5 is 25\n"
     ]
    }
   ],
   "source": [
    "square = lambda x : x**2\n",
    "k = 5\n",
    "print(\"The square of {} is {}\".format(k, square(k)))"
   ]
  },
  {
   "cell_type": "markdown",
   "metadata": {},
   "source": [
    "We can also nest lambda functions to produce more complex functionality:"
   ]
  },
  {
   "cell_type": "code",
   "execution_count": 19,
   "metadata": {},
   "outputs": [
    {
     "name": "stdout",
     "output_type": "stream",
     "text": [
      "2 to the fourth power is 16\n"
     ]
    }
   ],
   "source": [
    "fourth_order = lambda x : (lambda x : x**2)(x)**2\n",
    "k = 2\n",
    "print(\"{} to the fourth power is {}\".format(k, fourth_order(k)))"
   ]
  },
  {
   "cell_type": "markdown",
   "metadata": {},
   "source": [
    "Lambda functions are reasonably rare, but are useful for quickly testing concepts or generating dummy data. As an example:"
   ]
  },
  {
   "cell_type": "code",
   "execution_count": 28,
   "metadata": {},
   "outputs": [
    {
     "data": {
      "image/png": "[encoded data removed]",
      "text/plain": [
       "<Figure size 432x288 with 1 Axes>"
      ]
     },
     "metadata": {},
     "output_type": "display_data"
    }
   ],
   "source": [
    "import matplotlib.pyplot as plt\n",
    "\n",
    "gaussian_pdf = lambda x, mu, sigma : (1/sqrt(2*pi)/sigma)*exp(-(x-mu)**2/2/sigma**2)\n",
    "xs = [i*0.1-5 for i in range(101)]\n",
    "ys = [gaussian_pdf(x, 0, 1) for x in xs]\n",
    "ax = plt.axes()\n",
    "ax.plot(xs,ys)\n",
    "plt.show()"
   ]
  },
  {
   "cell_type": "markdown",
   "metadata": {},
   "source": [
    "It takes us only a few lines of code to plot out a normal distribution using a lambda function. In this case, roughly half the code is actually plotting the output -- the data itself only took 3 lines to generate. This is a fairly common strategy that you'll see later on when we move to numpy. Often we'll generate noisy dummy data in order to test an optimization routine, or a machine learning method. Lambda functions can significantly reduce the amount of code you need to write, as long as you're prudent in your usage of them (try to avoid hugely nested lambda functions, for example)."
   ]
  }
 ],
 "metadata": {
  "kernelspec": {
   "display_name": "Python 3",
   "language": "python",
   "name": "python3"
  },
  "language_info": {
   "codemirror_mode": {
    "name": "ipython",
    "version": 3
   },
   "file_extension": ".py",
   "mimetype": "text/x-python",
   "name": "python",
   "nbconvert_exporter": "python",
   "pygments_lexer": "ipython3",
   "version": "3.6.5"
  }
 },
 "nbformat": 4,
 "nbformat_minor": 2
}

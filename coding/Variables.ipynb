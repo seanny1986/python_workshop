{
 "cells": [
  {
   "cell_type": "markdown",
   "metadata": {},
   "source": [
    "## Variables in Python"
   ]
  },
  {
   "cell_type": "markdown",
   "metadata": {},
   "source": [
    "Python is a duck-typed language: if it walks like a duck, and quacks like a duck, it must be a duck. This is a way of saying that variables are whatever you use them as. Here are some straightforward examples:"
   ]
  },
  {
   "cell_type": "code",
   "execution_count": 5,
   "metadata": {},
   "outputs": [
    {
     "name": "stdout",
     "output_type": "stream",
     "text": [
      "Value is:  5\n",
      "Value is:  7\n",
      "Another way of printing values: 5\n"
     ]
    }
   ],
   "source": [
    "x = 5\n",
    "y = 7\n",
    "string = \"Value is: \"\n",
    "\n",
    "print(string, x)\n",
    "print(string, y)\n",
    "print(\"Another way of printing values: {}\".format(x))"
   ]
  },
  {
   "cell_type": "markdown",
   "metadata": {},
   "source": [
    "In the above block of code, x and y are both integers because when we initialized them, we initialized them as integers. This is in contrast to other languages where you might need to type **int x = 5**. The function **print**() is an inbuilt function within python that outputs variables to the terminal so that you can see what the contains. We can check the type of variable using the inbuilt **type**() function."
   ]
  },
  {
   "cell_type": "code",
   "execution_count": 7,
   "metadata": {},
   "outputs": [
    {
     "name": "stdout",
     "output_type": "stream",
     "text": [
      "x is a variable of type  <class 'int'>\n"
     ]
    }
   ],
   "source": [
    "print(\"x is a variable of type \", type(x))"
   ]
  },
  {
   "cell_type": "markdown",
   "metadata": {},
   "source": [
    "We have multiple different types of variables. In no particular order, they are integers, floats, strings, booleans, and complex numbers. Run the following code block to print out the various types."
   ]
  },
  {
   "cell_type": "code",
   "execution_count": 12,
   "metadata": {},
   "outputs": [
    {
     "name": "stdout",
     "output_type": "stream",
     "text": [
      "a is a variable of type,  <class 'float'>\n",
      "b is a variable of type,  <class 'str'>\n",
      "c is a variable of type,  <class 'bool'>\n",
      "d is a variable of type,  <class 'complex'>\n"
     ]
    }
   ],
   "source": [
    "a = 5. # this is a floating point number\n",
    "print(\"a is a variable of type, \", type(a))\n",
    "\n",
    "b = \"this is a string\" # this is a string\n",
    "print(\"b is a variable of type, \", type(b))\n",
    "\n",
    "c = True # this is a boolean variable\n",
    "print(\"c is a variable of type, \", type(c))\n",
    "\n",
    "d = 5+3j\n",
    "print(\"d is a variable of type, \", type(d))"
   ]
  },
  {
   "cell_type": "markdown",
   "metadata": {},
   "source": [
    "### Operations"
   ]
  },
  {
   "cell_type": "markdown",
   "metadata": {},
   "source": [
    "We can do simple arithmetic operations using +, -, \\*, /. It's important to note that power operations are carried denoted using \\*\\*, rather than ^ as you're most likely used to. Python also uses the % character as the modulo or remainder operator. Finally, we can do comparison operations that return a boolean using <,>, and ==. For example:"
   ]
  },
  {
   "cell_type": "code",
   "execution_count": 100,
   "metadata": {},
   "outputs": [
    {
     "name": "stdout",
     "output_type": "stream",
     "text": [
      "Power operations:\n",
      "2 squared is:  4\n",
      "\n",
      "Multiplication:\n",
      "5 * 3 is:  15\n",
      "\n",
      "Addition:\n",
      "178 + 35 is:  213\n",
      "\n",
      "Subtraction:\n",
      "223 - 92 is:  131\n",
      "\n",
      "Division:\n",
      "56 / 33 is: 1.69697\n",
      "\n",
      "Modulo:\n",
      "7 % 5 is:  3\n",
      "\n",
      "Greater than:\n",
      "7 > 5:  True\n",
      "\n",
      "Less than:\n",
      "7 < 5:  False\n",
      "\n",
      "Greater than or equal to:\n",
      "7 >= 5:  True\n",
      "\n",
      "Less than or equal to:\n",
      "7 <= 5:  False\n",
      "\n",
      "Equal to:\n",
      "7 == 5:  False\n"
     ]
    }
   ],
   "source": [
    "print(\"Power operations:\")\n",
    "print(\"2 squared is: \", 2**2)\n",
    "print()\n",
    "print(\"Multiplication:\")\n",
    "print(\"5 * 3 is: \", 5*3)\n",
    "print()\n",
    "print(\"Addition:\")\n",
    "print(\"178 + 35 is: \", 178+35)\n",
    "print()\n",
    "print(\"Subtraction:\")\n",
    "print(\"223 - 92 is: \", 223-92)\n",
    "print()\n",
    "print(\"Division:\")\n",
    "print(\"56 / 33 is: {:.5f}\".format(56/33))\n",
    "print()\n",
    "print(\"Modulo:\")\n",
    "print(\"7 % 5 is: \", 3%5)\n",
    "print()\n",
    "print(\"Greater than:\")\n",
    "print(\"7 > 5: \", 7>5)\n",
    "print()\n",
    "print(\"Less than:\")\n",
    "print(\"7 < 5: \", 7<5)\n",
    "print()\n",
    "print(\"Greater than or equal to:\")\n",
    "print(\"7 >= 5: \", 7>=5)\n",
    "print()\n",
    "print(\"Less than or equal to:\")\n",
    "print(\"7 <= 5: \", 7<=5)\n",
    "print()\n",
    "print(\"Equal to:\")\n",
    "print(\"7 == 5: \", 7==5)"
   ]
  },
  {
   "cell_type": "markdown",
   "metadata": {},
   "source": [
    "Note that in the second-to-last example, we used another one of Python's inbuilt functions -- the **format**() function. This lets us format a variable when we print it to screen, using the {} brackets. Note that strings are similar to lists (they are a \"collection\") in Python, meaning that they are **iterable**. This means that we can access elements of them using slicing and index notation (which we'll get to in a bit). In a nutshell, we can do operations like the following:"
   ]
  },
  {
   "cell_type": "code",
   "execution_count": 77,
   "metadata": {},
   "outputs": [
    {
     "name": "stdout",
     "output_type": "stream",
     "text": [
      "The first letter of the variable sentence is:  T\n",
      "\n",
      "We can print every second character of the variable \"sentence\":\n",
      "['T', 'i', ' ', 's', 'a', 's', 'n', 'e', 'c', '.']\n"
     ]
    }
   ],
   "source": [
    "sentence = \"This is a sentence.\"\n",
    "print(\"The first letter of the variable sentence is: \", sentence[0])\n",
    "print()\n",
    "print(\"We can print every second character of the variable \\\"sentence\\\":\")\n",
    "print([c for i, c in enumerate(sentence) if i % 2 == 0])"
   ]
  },
  {
   "cell_type": "markdown",
   "metadata": {},
   "source": [
    "One thing to be aware of in most languages is **integer division**. In Python 3.x, the division 2/5 will return 0.4, whereas in Python 2.x, the answer will be 0. The latter is known as floor division, or integer division, and is common in most languages (Java exhibits the same behaviour as Python 2.x, for example). Dividing integers in Python 3.x automatically returns a floating point value, but we can still do floor division in Python 3.x:"
   ]
  },
  {
   "cell_type": "code",
   "execution_count": 95,
   "metadata": {},
   "outputs": [
    {
     "name": "stdout",
     "output_type": "stream",
     "text": [
      "Normal division in Python 3.x for 2/5:  0.4\n",
      "Floor division in Python 3.x for 2/5:  0\n",
      "Casting the result as an integer in Python 3.x for 2/5:  0\n"
     ]
    }
   ],
   "source": [
    "print(\"Normal division in Python 3.x for 2/5: \", int(2)/int(5))\n",
    "print(\"Floor division in Python 3.x for 2/5: \", 2//5)\n",
    "print(\"Casting the result as an integer in Python 3.x for 2/5: \", int(2/5))\n"
   ]
  },
  {
   "cell_type": "markdown",
   "metadata": {},
   "source": [
    "### Lists, Tuples, Sets, and Dictionaries"
   ]
  },
  {
   "cell_type": "markdown",
   "metadata": {},
   "source": [
    "#### Lists and Tuples\n",
    "\n",
    "Sometimes we want to store multiple values in a single structure. The most common way of doing this is with a list, which is denoted using square brackets []."
   ]
  },
  {
   "cell_type": "code",
   "execution_count": 57,
   "metadata": {},
   "outputs": [
    {
     "name": "stdout",
     "output_type": "stream",
     "text": [
      "List y contains objects of the following types: \n",
      "[<class 'int'>, <class 'float'>]\n",
      "\n",
      "Appending y to x:\n",
      "[[2, 5.0]]\n",
      "\n",
      "x is now:\n",
      "[]\n",
      "\n",
      "and z is:\n",
      "[2, 5.0]\n"
     ]
    }
   ],
   "source": [
    "x = [] # this is an empty list\n",
    "y = [2, 5.] # this list contains an integer and a float\n",
    "print(\"List y contains objects of the following types: \")\n",
    "print([type(x) for x in y])\n",
    "print()\n",
    "# we will add a new object to x\n",
    "x.append(y)\n",
    "print(\"Appending y to x:\")\n",
    "print(x)\n",
    "print()\n",
    "z = x.pop()\n",
    "print(\"x is now:\")\n",
    "print(x)\n",
    "print()\n",
    "print(\"and z is:\")\n",
    "print(z)"
   ]
  },
  {
   "cell_type": "markdown",
   "metadata": {},
   "source": [
    "The inbuilt **append**() and **pop**() functions add a new object to the end of the list, and pop the head of the list (removing the first element), respectively. We can access an element of a list using indexing:"
   ]
  },
  {
   "cell_type": "code",
   "execution_count": 88,
   "metadata": {},
   "outputs": [
    {
     "name": "stdout",
     "output_type": "stream",
     "text": [
      "x contains:\n",
      "[0, 1, 2, 3, 4, 5, 6, 7, 8, 9]\n",
      "\n",
      "The 5th element of x is:  4\n",
      "\n",
      "Using slicing notation to access multiple elements:\n",
      "[1, 2, 3, 4]\n",
      "[0, 1]\n",
      "[4, 5, 6, 7, 8, 9]\n",
      "\n",
      "Using negative indices: \n",
      "8\n",
      "\n",
      "There are two ways to reverse lists:\n",
      "[9, 8, 7, 6, 5, 4, 3, 2, 1, 0]\n",
      "[9, 8, 7, 6, 5, 4, 3, 2, 1, 0]\n"
     ]
    }
   ],
   "source": [
    "x = [i for i in range(10)]\n",
    "print(\"x contains:\")\n",
    "print(x)\n",
    "print()\n",
    "print(\"The 5th element of x is: \", x[4])\n",
    "print()\n",
    "print(\"Using slicing notation to access multiple elements:\")\n",
    "print(x[1:5])\n",
    "print(x[:2])\n",
    "print(x[4:])\n",
    "print()\n",
    "print(\"Using negative indices: \")\n",
    "print(x[-2])\n",
    "print()\n",
    "print(\"There are two ways to reverse lists:\")\n",
    "print(list(reversed(x)))\n",
    "print(x[::-1])"
   ]
  },
  {
   "cell_type": "markdown",
   "metadata": {},
   "source": [
    "Note that lists in Python are indexed from 0 and not 1 as in MATLAB. You may also have noticed that I often build lists quickly using [i for i in range(x)]. This is known as list comprehension, and is good practice if you're able to use it. List comprehension is syntactically shorter than writing an equivalent for loop, and is much faster to execute.\n",
    "\n",
    "Lists can be any number of dimensions, and python supports jagged lists (in which elements within the list can be different sizes). You can use the inbuilt **len**() function to check the length of lists. For example:"
   ]
  },
  {
   "cell_type": "code",
   "execution_count": 39,
   "metadata": {},
   "outputs": [
    {
     "name": "stdout",
     "output_type": "stream",
     "text": [
      "The lengths of the lists in list z are:\n",
      "[0, 1, 3]\n"
     ]
    }
   ],
   "source": [
    "z = [[], [5], [1., 2, \"string\"]]\n",
    "print(\"The lengths of the lists in list z are:\")\n",
    "print([len(x) for x in z])"
   ]
  },
  {
   "cell_type": "markdown",
   "metadata": {},
   "source": [
    "A good way to think of lists is as a bag of objects, each object of which may also be a lists (or list of lists). This can present problems if you don't carefully manage your code, since you can inadvertently attempt a meaningless operation (e.g. trying to divide an integer by a string). Tuples are similar to lists, except they are **immutable**, meaning they cannot be modified or changed in any way. This is an important difference, and touches on the difference between variables and objects. To demonstrate:"
   ]
  },
  {
   "cell_type": "code",
   "execution_count": 90,
   "metadata": {},
   "outputs": [
    {
     "name": "stdout",
     "output_type": "stream",
     "text": [
      "List a contains:  ['apples', 'oranges', 'bananas']\n",
      "The memory address of list a is:  4570220680\n",
      "\n",
      "Tuple b contains:  ('apples', 'oranges', 'bananas')\n",
      "The memory address of tuple b is :  4570101872\n"
     ]
    }
   ],
   "source": [
    "a = [\"apples\", \"oranges\", \"bananas\"]\n",
    "b = (\"apples\", \"oranges\", \"bananas\")\n",
    "\n",
    "print(\"List a contains: \", a)\n",
    "print(\"The memory address of list a is: \", id(a))\n",
    "print()\n",
    "print(\"Tuple b contains: \", b)\n",
    "print(\"The memory address of tuple b is : \", id(b))"
   ]
  },
  {
   "cell_type": "markdown",
   "metadata": {},
   "source": [
    "a and b are references to the location of the object in memory. If an object is mutable, that means we can modify it and the address of the object remains unchanged. However, if it immutable, attempting to do so will throw up an error:"
   ]
  },
  {
   "cell_type": "code",
   "execution_count": 91,
   "metadata": {},
   "outputs": [
    {
     "name": "stdout",
     "output_type": "stream",
     "text": [
      "Modifying a is straightforward:\n",
      "['peaches', 'oranges', 'bananas']\n",
      "The memory address of list a is:  4570220680\n",
      "\n",
      "Attempting to modify tuple b throws an error:\n"
     ]
    },
    {
     "ename": "TypeError",
     "evalue": "'tuple' object does not support item assignment",
     "output_type": "error",
     "traceback": [
      "\u001b[0;31m---------------------------------------------------------------------------\u001b[0m",
      "\u001b[0;31mTypeError\u001b[0m                                 Traceback (most recent call last)",
      "\u001b[0;32m<ipython-input-91-62adb93ff180>\u001b[0m in \u001b[0;36m<module>\u001b[0;34m()\u001b[0m\n\u001b[1;32m      5\u001b[0m \u001b[0mprint\u001b[0m\u001b[0;34m(\u001b[0m\u001b[0;34m)\u001b[0m\u001b[0;34m\u001b[0m\u001b[0m\n\u001b[1;32m      6\u001b[0m \u001b[0mprint\u001b[0m\u001b[0;34m(\u001b[0m\u001b[0;34m\"Attempting to modify tuple b throws an error:\"\u001b[0m\u001b[0;34m)\u001b[0m\u001b[0;34m\u001b[0m\u001b[0m\n\u001b[0;32m----> 7\u001b[0;31m \u001b[0mb\u001b[0m\u001b[0;34m[\u001b[0m\u001b[0;36m0\u001b[0m\u001b[0;34m]\u001b[0m \u001b[0;34m=\u001b[0m \u001b[0;34m\"peaches\"\u001b[0m\u001b[0;34m\u001b[0m\u001b[0m\n\u001b[0m",
      "\u001b[0;31mTypeError\u001b[0m: 'tuple' object does not support item assignment"
     ]
    }
   ],
   "source": [
    "print(\"Modifying a is straightforward:\")\n",
    "a[0] = \"peaches\"\n",
    "print(a)\n",
    "print(\"The memory address of list a is: \", id(a))\n",
    "print()\n",
    "print(\"Attempting to modify tuple b throws an error:\")\n",
    "b[0] = \"peaches\""
   ]
  },
  {
   "cell_type": "markdown",
   "metadata": {},
   "source": [
    "What we can do is reassign the variable b to a new tuple that has the modification we want, but this will be an entirely new object with a new memory address:"
   ]
  },
  {
   "cell_type": "code",
   "execution_count": 92,
   "metadata": {},
   "outputs": [
    {
     "name": "stdout",
     "output_type": "stream",
     "text": [
      "Tuple b contains:  ('peaches', 'oranges', 'bananas')\n",
      "The memory address of tuple b is :  4569881912\n"
     ]
    }
   ],
   "source": [
    "b = (\"peaches\", \"oranges\", \"bananas\")\n",
    "print(\"Tuple b contains: \", b)\n",
    "print(\"The memory address of tuple b is : \", id(b))"
   ]
  },
  {
   "cell_type": "markdown",
   "metadata": {},
   "source": [
    "#### Sets\n",
    "\n",
    "Sets are similar to lists, but are unordered collections, unlike lists which are ordered. Similar to lists, sets are mutable. They are sets in the mathematical sense, meaning that they contain no duplicates:"
   ]
  },
  {
   "cell_type": "code",
   "execution_count": 52,
   "metadata": {},
   "outputs": [
    {
     "name": "stdout",
     "output_type": "stream",
     "text": [
      "{0, 1, 2, 3, 4, 5, 6, 7, 8, 9}\n",
      "{'h', 'l', 'o', 'e'}\n",
      "True\n",
      "True True\n",
      "{1, 2, 3, 4}\n"
     ]
    }
   ],
   "source": [
    "a = {i for i in range(10)}\n",
    "print(a)\n",
    "print(set(\"hello\"))\n",
    "print({1,1,2,3} == {1,2,3})\n",
    "A = {1, 2, 3}\n",
    "print(1 in A, 4 not in A)\n",
    "A.add(4)\n",
    "print(A)"
   ]
  },
  {
   "cell_type": "markdown",
   "metadata": {},
   "source": [
    "Sets have many inbuilt functions, including basic set operations (union, intersection). It's unlikely that you'll use sets in very often, so -- while it's good to know that they exist, and can be useful -- you should refer to the documentation to learn more about them.\n",
    "\n",
    "\n",
    "#### Dictionaries\n",
    "\n",
    "Finally, we come to dictionaries, which are similar to keyworded sets or lists. That, rather than an index, they have a keyword that defines the index of the object. For example:"
   ]
  },
  {
   "cell_type": "code",
   "execution_count": 97,
   "metadata": {},
   "outputs": [
    {
     "name": "stdout",
     "output_type": "stream",
     "text": [
      "Accessing the \"floats\" element of a:\n",
      "[4.0, 5.0, 6.0]\n"
     ]
    }
   ],
   "source": [
    "a = {\"integers\":[1,2,3],\n",
    "    \"floats\":[4., 5., 6.]}\n",
    "print(\"Accessing the \\\"floats\\\" element of a:\")\n",
    "print(a[\"floats\"])"
   ]
  },
  {
   "cell_type": "markdown",
   "metadata": {},
   "source": [
    "Dictionaries are very useful, since you can use them to easily store and access information without having to know the exact index element. It's particularly useful for handling datasets (though for more serious dataset manipulation, you should dataframes in Pandas). Like lists, dictionaries can also be nested:"
   ]
  },
  {
   "cell_type": "code",
   "execution_count": 98,
   "metadata": {},
   "outputs": [
    {
     "name": "stdout",
     "output_type": "stream",
     "text": [
      "{'integers': [1, 2, 3], 'floats': [4.0, 5.0, 6.0]}\n"
     ]
    }
   ],
   "source": [
    "b = {\"strings\":[\"pear\", \"apple\", \"orange\"],\n",
    "    \"booleans\":[True, False]}\n",
    "c = {\"a\":a,\n",
    "    \"b\":b}\n",
    "print(c[\"a\"])"
   ]
  },
  {
   "cell_type": "markdown",
   "metadata": {},
   "source": [
    "### Typecasting"
   ]
  },
  {
   "cell_type": "markdown",
   "metadata": {},
   "source": [
    "An important functionality in many languages is the ability to typecast a variable. This means that you take a variable and specifically cast it as the variable type that you want. In languages like Java this is *necessary* in certain situations. In Python, it's rarely necessary, but often useful. For example, we used it previously to mimic floor division, but we can also do the following:"
   ]
  },
  {
   "cell_type": "code",
   "execution_count": 75,
   "metadata": {},
   "outputs": [
    {
     "name": "stdout",
     "output_type": "stream",
     "text": [
      "The variable A contains:  [0, 1, 2, 3, 4, 5, 6, 7, 8, 9]\n",
      "\n",
      "Checking if the elements of A are even:\n",
      "[0, 1, 0, 1, 0, 1, 0, 1, 0, 1]\n",
      "\n",
      "Casting elements of list B to booleans:\n",
      "[False, True, False, True, False, True, False, True, False, True]\n",
      "\n",
      "Note that the bool of a non-zero value is always true, even if it is negative:\n",
      "True\n",
      "True\n",
      "False\n"
     ]
    }
   ],
   "source": [
    "A = [i for i in range(10)]\n",
    "print(\"The variable A contains: \", A)\n",
    "\n",
    "print()\n",
    "\n",
    "print(\"Checking if the elements of A are even:\")\n",
    "B = [a % 2 for a in A]\n",
    "print(B)\n",
    "\n",
    "print()\n",
    "\n",
    "print(\"Casting elements of list B to booleans:\")\n",
    "print([bool(b) for b in B])\n",
    "\n",
    "print()\n",
    "\n",
    "print(\"Note that the bool of a non-zero value is always true, even if it is negative:\")\n",
    "print(bool(2))\n",
    "print(bool(-10))\n",
    "print(bool(0))"
   ]
  },
  {
   "cell_type": "markdown",
   "metadata": {},
   "source": [
    "You may recall that in a previous example, we reversed a list, by using **list**(**reversed**(x)), in which we typecast the output of the **reversed**() function. This was necessary because the reversed function outputs something called a generator function that we -- as the programmer -- know is a list, but the Python interpreter doesn't. As a result, we were able to typecast it to access the list."
   ]
  }
 ],
 "metadata": {
  "kernelspec": {
   "display_name": "Python 3",
   "language": "python",
   "name": "python3"
  },
  "language_info": {
   "codemirror_mode": {
    "name": "ipython",
    "version": 3
   },
   "file_extension": ".py",
   "mimetype": "text/x-python",
   "name": "python",
   "nbconvert_exporter": "python",
   "pygments_lexer": "ipython3",
   "version": "3.6.5"
  }
 },
 "nbformat": 4,
 "nbformat_minor": 2
}

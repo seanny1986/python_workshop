{
 "cells": [
  {
   "cell_type": "markdown",
   "metadata": {},
   "source": [
    "## Classes"
   ]
  },
  {
   "cell_type": "markdown",
   "metadata": {},
   "source": [
    "Classes are the basis of object oriented programming, and are used to define classes of object that we want to work with. As an example, dogs and cats are both pets -- we might define a class of objects called pets, and then use it to define behaviours common to all pets (eating, sleeping, ...). These behaviours can be captured using class functions. For example:"
   ]
  },
  {
   "cell_type": "code",
   "execution_count": 1,
   "metadata": {},
   "outputs": [],
   "source": [
    "class Pet:\n",
    "    def __init__(self):\n",
    "        pass"
   ]
  },
  {
   "cell_type": "markdown",
   "metadata": {},
   "source": [
    "We use the inbuilt __init__() function to initialize an object of type Pet. Class functions always take self as the first argument, which refers to the current instance of the class. The exception to this is if you use the @staticmethod decorator to be able to call the function from outside the class.\n",
    "\n",
    "This is a pretty boring class, though, so let's write something a bit more interesting. The following is a class that defines a dog object, that has a name, a breed, a height, a weight, and an age:"
   ]
  },
  {
   "cell_type": "code",
   "execution_count": 24,
   "metadata": {},
   "outputs": [],
   "source": [
    "class Dog:\n",
    "    def __init__(self, name, breed, height, weight, age):\n",
    "        self.name = name\n",
    "        self.breed = breed\n",
    "        self.height = height\n",
    "        self.weight = weight\n",
    "        self.age = age\n",
    "\n",
    "    def bark(self):\n",
    "        print(self.name + \" barks!\")"
   ]
  },
  {
   "cell_type": "markdown",
   "metadata": {},
   "source": [
    "Running this, you'll notice that it doesn't actually do anything. That's because we have to **instantiate** classes first, which is to say, we need to create a new dog object. Let's do that below, with a labrador called Fido:"
   ]
  },
  {
   "cell_type": "code",
   "execution_count": 25,
   "metadata": {},
   "outputs": [
    {
     "name": "stdout",
     "output_type": "stream",
     "text": [
      "fido barks!\n"
     ]
    }
   ],
   "source": [
    "fido = Dog(\"fido\", \"labrador\", 0.45, 30, 7)\n",
    "fido.bark()"
   ]
  },
  {
   "cell_type": "markdown",
   "metadata": {},
   "source": [
    "So what did we do here? We first created the object called Fido. Fido is a dog with the name of Fido, is a labrador, is 45cm tall at the shoulder, weighs 30kg, and is 7 years old. Next, we called the class method bark using fido.bark(). When we do this, we tell the Fido object to run its bark() function.\n",
    "\n",
    "Let's instantiate another object, this time called Rusty:"
   ]
  },
  {
   "cell_type": "code",
   "execution_count": 26,
   "metadata": {},
   "outputs": [
    {
     "name": "stdout",
     "output_type": "stream",
     "text": [
      "fido barks!\n",
      "rusty barks!\n"
     ]
    }
   ],
   "source": [
    "rusty = Dog(\"rusty\", \"pitbull\", 0.4, 33, 6)\n",
    "\n",
    "fido.bark()\n",
    "rusty.bark()"
   ]
  },
  {
   "cell_type": "markdown",
   "metadata": {},
   "source": [
    "Each instance of the class Dog stores its own set of information. In the bark() function, we access the instance variable name, stored as **self.name** (since it references the object itself), and print out a unique bark for each dog.\n",
    "\n",
    "### Why Use Classes?\n",
    "\n",
    "So what good are classes, really? Well, classes make up the backbone of object-oriented programming, and are how we define objects. There are many instances where creating an object-based structure is advantageous; for example, imagine that we want to simulate an aircraft. An aircraft has many different components, such as wings, empennage, and engines, each of which is also an object. Breaking the aircraft up into a hierarchy of objects means that we can dramatically increase the flexibility of our code whilst improving readability and maintainability. For example, we can define an engine object to create many different types of aircraft engine, and then try running our simulation with each different engine. Similarly, we can specify different wings with different aerodynamic characteristics, and simulate how the aircraft would fly. \n",
    "\n",
    "Classes make object hierarchies easy to define, and let you maximize the flexibility of your code. Learning when and how to use them is a fundamental skill in programming."
   ]
  },
  {
   "cell_type": "markdown",
   "metadata": {},
   "source": [
    "### Inheritance\n",
    "\n"
   ]
  },
  {
   "cell_type": "markdown",
   "metadata": {},
   "source": [
    "Inheritance is when child classes can inherit functions and traits from parent classes in order to cut down on recycled code. Depending on how you want to structure your code, you might consider Cats and Dogs to both be objects of type Pet, in which case, it might make sense to first define a Pet class, and then inherit from it. This would especially be true if -- in future -- you thought you might define other types of Pet, such as Birds and Goldfish.\n",
    "\n",
    "Let's implement a basic Pet class below, which contains the Pet's name, and its species:"
   ]
  },
  {
   "cell_type": "code",
   "execution_count": 7,
   "metadata": {},
   "outputs": [],
   "source": [
    "class Pet:\n",
    "    def __init__(self, name, species):\n",
    "        self.name = name\n",
    "        self.species = species\n",
    "\n",
    "    def print_name(self):\n",
    "        print(self.name)\n"
   ]
  },
  {
   "cell_type": "markdown",
   "metadata": {},
   "source": [
    "Now that we've done this, let's create a Dog class that inherits from Pet:"
   ]
  },
  {
   "cell_type": "code",
   "execution_count": 27,
   "metadata": {},
   "outputs": [],
   "source": [
    "class Dog(Pet):\n",
    "    def __init__(self, name):\n",
    "        super(Dog, self).__init__(name, \"Dog\")\n",
    "\n",
    "    def bark (self):\n",
    "        print(\"Woof.\")\n"
   ]
  },
  {
   "cell_type": "markdown",
   "metadata": {},
   "source": [
    "So what's the difference between these two classes? Well, for one thing, only dog's bark, so the bark function is part of the Dog class. However, since all pets have names, the name is part of the parent Pet class. When we initialize a Dog, we use the **super**() function to initialize an instance of class Pet that also has the functions of class Dog.\n",
    "\n",
    "Now, let's create two dogs -- Fido, and Spike. Spike is a member of class Dog, but Fido is an instance of the generic class Pet (he's not so cute). If we try to call Fido's bark function (which doesn't exist, since he's a pet, and not a dog), our code will throw up an error:"
   ]
  },
  {
   "cell_type": "code",
   "execution_count": 29,
   "metadata": {},
   "outputs": [
    {
     "name": "stdout",
     "output_type": "stream",
     "text": [
      "spike\n",
      "Woof.\n",
      "fido\n"
     ]
    },
    {
     "ename": "AttributeError",
     "evalue": "'Pet' object has no attribute 'bark'",
     "output_type": "error",
     "traceback": [
      "\u001b[0;31m---------------------------------------------------------------------------\u001b[0m",
      "\u001b[0;31mAttributeError\u001b[0m                            Traceback (most recent call last)",
      "\u001b[0;32m<ipython-input-29-4d504e31f1ca>\u001b[0m in \u001b[0;36m<module>\u001b[0;34m()\u001b[0m\n\u001b[1;32m      4\u001b[0m \u001b[0mspike\u001b[0m\u001b[0;34m.\u001b[0m\u001b[0mbark\u001b[0m\u001b[0;34m(\u001b[0m\u001b[0;34m)\u001b[0m\u001b[0;34m\u001b[0m\u001b[0m\n\u001b[1;32m      5\u001b[0m \u001b[0mfido\u001b[0m\u001b[0;34m.\u001b[0m\u001b[0mprint_name\u001b[0m\u001b[0;34m(\u001b[0m\u001b[0;34m)\u001b[0m\u001b[0;34m\u001b[0m\u001b[0m\n\u001b[0;32m----> 6\u001b[0;31m \u001b[0mfido\u001b[0m\u001b[0;34m.\u001b[0m\u001b[0mbark\u001b[0m\u001b[0;34m(\u001b[0m\u001b[0;34m)\u001b[0m\u001b[0;34m\u001b[0m\u001b[0m\n\u001b[0m",
      "\u001b[0;31mAttributeError\u001b[0m: 'Pet' object has no attribute 'bark'"
     ]
    }
   ],
   "source": [
    "spike = Dog(\"spike\")\n",
    "fido = Pet(\"fido\", \"Dog\")\n",
    "spike.print_name()\n",
    "spike.bark()\n",
    "fido.print_name()\n",
    "fido.bark()\n"
   ]
  },
  {
   "cell_type": "markdown",
   "metadata": {},
   "source": [
    "As expected, we couldn't get Fido to bark.\n",
    "\n",
    "So when should you use inheritance?\n",
    "\n",
    "This is a tricky question to answer, since it depends on how extensible you need the code to be, who the end user is expected to be, and how difficult you want your life to be. In practice, you can go down the rabbit hole of making everything super general, but you're likely to create problems for yourself further down the line. My advice would be to start simple first, and then gradually build up generality and complexity as you need it. \n",
    "\n",
    "For example, if you want to do an aircraft simulation, do you need to be able to simulate every possible component in exacting detail, or can you get you get away with simpler models for most things? If the answer is the latter, then it probably doesn't make sense to create a super general class hierarchy. A single aircraft class that does everything you need it to do is probably fine. Similarly, if you're looking to do high-level simulation of multiple different components, then maybe it *does* make sense to define such a general structure.\n",
    "\n",
    "Ultimately, this comes down to personal judgement and practice. There are many, many different ways to accomplish the same thing, and the techniques you settle on will ultimately be an expression of how you like to think and code."
   ]
  },
  {
   "cell_type": "markdown",
   "metadata": {},
   "source": [
    "### Multiple Inheritance\n",
    "\n",
    "So what happens if we want to inherit from multiple parent classes? Well... it's mostly more of the same. In the below code, we'll create a class Third that is the child of both First and Second, so that you can see what happens when each is instantiated:"
   ]
  },
  {
   "cell_type": "code",
   "execution_count": 32,
   "metadata": {},
   "outputs": [
    {
     "name": "stdout",
     "output_type": "stream",
     "text": [
      "first\n",
      "\n",
      "second\n",
      "\n",
      "second\n",
      "first\n",
      "third\n"
     ]
    }
   ],
   "source": [
    "class First: \n",
    "    def __init__(self): \n",
    "        super(First, self).__init__() \n",
    "        print(\"first\") \n",
    "\n",
    "class Second: \n",
    "    def __init__(self): \n",
    "        super(Second, self).__init__() \n",
    "        print(\"second\") \n",
    "\n",
    "class Third(First, Second): \n",
    "    def __init__(self): \n",
    "        super(Third, self).__init__() \n",
    "        print(\"third\")\n",
    "\n",
    "first = First()\n",
    "print()\n",
    "second = Second()\n",
    "print()\n",
    "third = Third()"
   ]
  },
  {
   "cell_type": "markdown",
   "metadata": {},
   "source": [
    "I've yet to run into a situation where I absolutely needed multiple inheritance (in fact, I rarely use inheritance at all), but depending on what kind of coding you end up doing, it could come in handy."
   ]
  }
 ],
 "metadata": {
  "kernelspec": {
   "display_name": "Python 3",
   "language": "python",
   "name": "python3"
  },
  "language_info": {
   "codemirror_mode": {
    "name": "ipython",
    "version": 3
   },
   "file_extension": ".py",
   "mimetype": "text/x-python",
   "name": "python",
   "nbconvert_exporter": "python",
   "pygments_lexer": "ipython3",
   "version": "3.6.5"
  }
 },
 "nbformat": 4,
 "nbformat_minor": 2
}

{
 "cells": [
  {
   "cell_type": "markdown",
   "metadata": {},
   "source": [
    "## Working With Numpy"
   ]
  },
  {
   "cell_type": "markdown",
   "metadata": {},
   "source": [
    "In this notebook, we'll go over some of the uses of numpy, which is one of the standard python libraries for numerical methods. If you're familiar with MATLAB, many of the functions that you're used to can be translated directly over to numpy, and we'll provide a handout including some common functions.\n",
    "\n",
    "If you're using anaconda, numpy, scipy, and matplotlib should all be installed already. If you're using pip, you may need to install these using:"
   ]
  },
  {
   "cell_type": "code",
   "execution_count": 6,
   "metadata": {},
   "outputs": [
    {
     "data": {
      "text/plain": [
       "'pip install numpy matplotlib'"
      ]
     },
     "execution_count": 6,
     "metadata": {},
     "output_type": "execute_result"
    }
   ],
   "source": [
    "\"pip install numpy matplotlib\""
   ]
  },
  {
   "cell_type": "markdown",
   "metadata": {},
   "source": [
    "If you copy the above text into your terminal prompt without the quotation marks (\"\"), Python should install the packages automatically. Numpy relies on scipy, and so will install it automatically alongside itself. To use numpy, it's typical to use the syntax:"
   ]
  },
  {
   "cell_type": "code",
   "execution_count": 12,
   "metadata": {},
   "outputs": [],
   "source": [
    "import numpy as np\n",
    "import matplotlib.pyplot as plt\n",
    "from math import sin, cos, pi"
   ]
  },
  {
   "cell_type": "markdown",
   "metadata": {},
   "source": [
    "First off, we'll import numpy and pyplot. Like numpy, Pyplot is a commonly used library for plotting figures. \n",
    "\n",
    "As an initial exercise, let's use numpy to calculate the trajectory of a ball that is thrown with some initial conditions. Let's assume a ball of mass 0.5kg, that is launched from an initial altitude on an angle $\\theta$ with a velocity $v$. At this stage, we'll assume a frictionless environment:"
   ]
  },
  {
   "cell_type": "code",
   "execution_count": 17,
   "metadata": {},
   "outputs": [],
   "source": [
    "mass = 0.5             # mass of the ball in kg\n",
    "theta = 45*pi/180      # angle at which the ball is launched\n",
    "v = 20.                # launch speed of the ball at time t0\n",
    "t = 0.                 # initial time\n",
    "dt = 1e-3              # integrator time step\n",
    "g = -9.81              # gravitational acceleration\n",
    "x = 0.                 # initial x position\n",
    "y = 0.                 # initial y position"
   ]
  },
  {
   "cell_type": "markdown",
   "metadata": {},
   "source": [
    "Having included all of our initial conditions, we'll use Euler integration to step our simulation forward. This is the simplest type of integrator, taking the form:\n",
    "\n",
    "\\begin{equation*}\n",
    "v_{t} = v_{t-1}+a_{t}\\Delta t\n",
    "\\end{equation*}\n",
    "\n",
    "\\begin{equation*}\n",
    "x_{t} = x_{t-1}+v_{t}\\Delta t\n",
    "\\end{equation*}\n",
    "\n",
    "Our algorithm is pretty straightforward: at each time step, we calculate the forces acting on the ball (in this case, only gravity), and then use this to find the accelerations in each direction. From there, we can step velocity and position forward."
   ]
  },
  {
   "cell_type": "code",
   "execution_count": 18,
   "metadata": {},
   "outputs": [],
   "source": [
    "G = np.array([0., g])                      # create numpy array for the gravity vector\n",
    "X = np.array([x, y])                       # create numpy array for the position vector\n",
    "V = np.array([v*cos(theta), v*sin(theta)]) # create numpy array for the velocity vector\n",
    "\n",
    "position = []                              # list to hold position data\n",
    "velocity = []                              # list to hold velocity data\n",
    "time = []                                  # list to hold time data\n",
    "running = True\n",
    "while running:\n",
    "    position.append(X.copy())              # append position to list\n",
    "    velocity.append(V.copy())              # append velocity to list\n",
    "    time.append(t)                         # append time to list\n",
    "    A = 0/mass+G                           # no drag, so acceleration is only due to gravity here\n",
    "    V = V+A*dt                             # update velocity\n",
    "    X = X+V*dt                             # update position\n",
    "    t += dt                                # update time\n",
    "    if X[1] <= 0:\n",
    "        running = False                    # if ball has dropped below ground level, terminate simulation"
   ]
  },
  {
   "cell_type": "markdown",
   "metadata": {},
   "source": [
    "Now that we have the data, we'll use matplotlib to plot the trajectory:"
   ]
  },
  {
   "cell_type": "code",
   "execution_count": 19,
   "metadata": {},
   "outputs": [
    {
     "data": {
      "image/png": "[encoded data removed]",
      "text/plain": [
       "<Figure size 432x288 with 1 Axes>"
      ]
     },
     "metadata": {},
     "output_type": "display_data"
    }
   ],
   "source": [
    "position = np.vstack(position)\n",
    "ax = plt.axes()\n",
    "ax.plot(position[:,0], position[:,1])\n",
    "plt.show()"
   ]
  },
  {
   "cell_type": "markdown",
   "metadata": {},
   "source": [
    "### Another Example -- Optimization"
   ]
  },
  {
   "cell_type": "markdown",
   "metadata": {},
   "source": [
    "Let's play around with some optimization. Numpy and SciPy have several inbuilt solvers, and functions for you to test your own solvers on. The syntax is largely similar to MATLAB's, and the library of solvers available for you to use is also roughly similar.\n",
    "\n",
    "For this exercise, we'll first use optimization for a simple regression task by generating noisy data in numpy, and then using scipy's inbuilt fmin solvers to fit the dataset. To begin with, we'll generate the data:"
   ]
  },
  {
   "cell_type": "code",
   "execution_count": 23,
   "metadata": {},
   "outputs": [
    {
     "data": {
      "image/png": "[encoded data removed]",
      "text/plain": [
       "<Figure size 432x288 with 1 Axes>"
      ]
     },
     "metadata": {},
     "output_type": "display_data"
    }
   ],
   "source": [
    "import numpy as np\n",
    "import matplotlib.pyplot as plt\n",
    "from scipy.optimize import minimize\n",
    "\n",
    "x = np.linspace(-1, 1, 100)                         # x range\n",
    "A = np.random.randn()*10                            # generate random slope\n",
    "B = np.random.randn()*10                            # generate random intercept\n",
    "C = np.random.randn()*10\n",
    "y = (A*x**2+B*x+C)+4*np.random.randn(100)        # add noise to the function\n",
    "ax = plt.axes()                                  # create a figure\n",
    "ax.scatter(x,y)\n",
    "plt.show()"
   ]
  },
  {
   "cell_type": "markdown",
   "metadata": {},
   "source": [
    "Next, we'll put together a cost function that will tell us how good our regression fit is:"
   ]
  },
  {
   "cell_type": "code",
   "execution_count": 24,
   "metadata": {},
   "outputs": [],
   "source": [
    "def cost(theta, x, targ):\n",
    "    pred = theta.T.dot(x)\n",
    "    loss = -0.5*(pred-targ)**2\n",
    "    loss = -np.mean(loss, axis=-1)\n",
    "    return loss"
   ]
  },
  {
   "cell_type": "markdown",
   "metadata": {},
   "source": [
    "Finally, we'll use a set of input features and scipy's minimize function to fit the data. We'll use our human intuition to guess that the data is drawn from a quadratic function, meaning we want to find a function of the form $Ax^2 + Bx + C$. Let's rewrite this as $[\\theta_0; \\theta_1; \\theta_2]^T [x^2; x; 1]$ instead -- then our function is simply $\\Theta^T X$, and we can use numpy's inbuilt dot operator to handle the linear algebra for us."
   ]
  },
  {
   "cell_type": "code",
   "execution_count": 31,
   "metadata": {},
   "outputs": [
    {
     "name": "stdout",
     "output_type": "stream",
     "text": [
      "The shape of x_vec is:  (3, 100)\n",
      "The shape of theta_0 is:  (3, 1)\n",
      "A value:  -16.021647352869337\n",
      "B value:  16.38674903506361\n",
      "C value:  0.05890221249021144\n",
      "Found values:  [-17.47717379  16.93768005   0.35816618]\n"
     ]
    },
    {
     "data": {
      "image/png": "[encoded data removed]",
      "text/plain": [
       "<Figure size 432x288 with 1 Axes>"
      ]
     },
     "metadata": {},
     "output_type": "display_data"
    }
   ],
   "source": [
    "x_vec = np.vstack([x**2, x, np.ones(x.shape)])\n",
    "theta_0 = np.random.randn(x_vec.shape[0], 1)\n",
    "print(\"The shape of x_vec is: \", x_vec.shape)\n",
    "print(\"The shape of theta_0 is: \", theta_0.shape)\n",
    "theta = minimize(cost, theta_0, args=(x_vec, y), method=\"CG\")\n",
    "\n",
    "print(\"A value: \", A)\n",
    "print(\"B value: \", B)\n",
    "print(\"C value: \", C)\n",
    "print(\"Found values: \", theta.x)\n",
    "\n",
    "y_pred = np.array(theta.x).dot(x_vec)\n",
    "ax = plt.axes()                                  # create a figure\n",
    "ax.scatter(x,y)\n",
    "ax.plot(x, y_pred, \"r\")\n",
    "plt.show()"
   ]
  },
  {
   "cell_type": "markdown",
   "metadata": {},
   "source": [
    "Next we'll write our optimization routine. This will be a function that takes in a set of Xs, and a known set of outputs Y. Our goal will be to learn a set of parameters $\\theta$ such that $y=\\sum_{i=0}^{N}\\theta_{i}x^{i}$. The way evolutionary strategies typically work is to place distributions $\\mathcal{N}(\\mu, \\sigma)$ over each parameter $\\theta$, and then to draw many samples from these distributions. A fitness (or score, or cost) function is then used to evaluate the parameters, which are then ranked. We take the best parameters, and then combine them to form a new set of distributions using the $\\mu$ and $\\sigma$ of the best scoring parameters."
   ]
  },
  {
   "cell_type": "code",
   "execution_count": 26,
   "metadata": {},
   "outputs": [],
   "source": [
    "\"\"\"\n",
    "Regression example using the cross entropy method. The purpose of this\n",
    "script is to give an idea of how nested functions can be used.\n",
    "\n",
    "-- Sean Morrison, 2018\n",
    "\"\"\"\n",
    "\n",
    "def optimize_f(x, y_targ, mean=0., std=100., samples=10000, elite_frac=0.2, deg=1, max_iters=100, thresh=1e-2):\n",
    "    # outer optimization function\n",
    "    \n",
    "    def cost(pred, targ):\n",
    "        # mean squared-error cost function\n",
    "        loss = -0.5*(pred-targ)**2\n",
    "        return np.mean(loss, axis=-1)\n",
    "    \n",
    "    x = np.vstack([x**i for i in reversed(range(deg+1))])\n",
    "    best_n = int(elite_frac*samples)\n",
    "    iteration = 1\n",
    "    prev_cost = None\n",
    "    delta = None\n",
    "    mu, dev = np.ones((deg+1,))*mean, np.ones((deg+1,))*std\n",
    "    running = True\n",
    "    while running:\n",
    "        theta = np.random.normal(mu, dev, (samples, deg+1))\n",
    "        y_pred = theta.dot(x)\n",
    "        loss = cost(y_pred, np.tile(y_targ, (samples, 1)))\n",
    "        idxs = np.argsort(loss)[::-1]\n",
    "        best = idxs[0:best_n]\n",
    "        absolute_cost = np.abs(loss[idxs[best]].mean())\n",
    "        print(\"--- Iteration: {}, Loss: {:.5f} ---\".format(iteration, loss[idxs[best]].mean()))\n",
    "        if absolute_cost <= thresh:\n",
    "            print(\"Termination threshold reached. Current cost is {:.5f}\".format(absolute_cost))\n",
    "            running = False\n",
    "        elif iteration >= max_iters:\n",
    "            print(\"Maximum iterations reached. Current cost is {:.5f}\".format(absolute_cost))\n",
    "            running = False\n",
    "        elif prev_cost is not None:\n",
    "            delta = abs(absolute_cost-prev_cost)\n",
    "            if delta <= 1e-5:\n",
    "                print(\"Algorithm converged after {} iterations at cost {:.5f}\".format(iteration, absolute_cost))\n",
    "                running = False\n",
    "        best_theta = theta[best, :]\n",
    "        mu, dev = best_theta.mean(axis=0), best_theta.std(axis=0)\n",
    "        prev_cost = absolute_cost\n",
    "        iteration += 1\n",
    "    return mu"
   ]
  },
  {
   "cell_type": "markdown",
   "metadata": {},
   "source": [
    "Now that we've defined our optimization function, we'll test it out with some random data:"
   ]
  },
  {
   "cell_type": "code",
   "execution_count": 29,
   "metadata": {},
   "outputs": [
    {
     "name": "stdout",
     "output_type": "stream",
     "text": [
      "--- Iteration: 1, Loss: -7965.65852 ---\n",
      "--- Iteration: 2, Loss: -1644.74920 ---\n",
      "--- Iteration: 3, Loss: -398.18021 ---\n",
      "--- Iteration: 4, Loss: -100.97243 ---\n",
      "--- Iteration: 5, Loss: -29.05796 ---\n",
      "--- Iteration: 6, Loss: -11.94152 ---\n",
      "--- Iteration: 7, Loss: -7.80128 ---\n",
      "--- Iteration: 8, Loss: -6.70840 ---\n",
      "--- Iteration: 9, Loss: -6.47024 ---\n",
      "--- Iteration: 10, Loss: -6.41082 ---\n",
      "--- Iteration: 11, Loss: -6.39592 ---\n",
      "--- Iteration: 12, Loss: -6.39244 ---\n",
      "--- Iteration: 13, Loss: -6.39166 ---\n",
      "--- Iteration: 14, Loss: -6.39148 ---\n",
      "--- Iteration: 15, Loss: -6.39143 ---\n",
      "--- Iteration: 16, Loss: -6.39142 ---\n",
      "--- Iteration: 17, Loss: -6.39142 ---\n",
      "Algorithm converged after 17 iterations at cost 6.39142\n",
      "A: -16.021647352869337\n",
      "B: 16.38674903506361\n",
      "C: 0.05890221249021144\n",
      "Optimized Theta: [-17.47723069  16.93764827   0.35819886]\n"
     ]
    },
    {
     "data": {
      "image/png": "[encoded data removed]",
      "text/plain": [
       "<Figure size 432x288 with 1 Axes>"
      ]
     },
     "metadata": {},
     "output_type": "display_data"
    }
   ],
   "source": [
    "theta = optimize_f(x, y, deg=2)           # call optimization fn\n",
    "print(\"A: {}\".format(A))\n",
    "print(\"B: {}\".format(B))\n",
    "print(\"C: {}\".format(C))\n",
    "print(\"Optimized Theta: {}\".format(theta))\n",
    "x_vec = np.vstack([x**i for i in reversed(range(3))])\n",
    "y_pred = theta.reshape(1,-1).dot(x_vec)\n",
    "ax = plt.axes()\n",
    "ax.scatter(x, y)\n",
    "ax.plot(x, y_pred[0,:], \"-r\")                 # plot the line given by THETA\n",
    "plt.show()      "
   ]
  },
  {
   "cell_type": "markdown",
   "metadata": {},
   "source": [
    "From the output, we can see that our evolutionary strategy has not only regressed the data, it's found almost the exact same coefficients that the conjugate gradient method did above. That's kind of neat. Aaaand this is also our first introduction to machine learning and AI, which will be covered in a later workshop."
   ]
  }
 ],
 "metadata": {
  "kernelspec": {
   "display_name": "Python 3",
   "language": "python",
   "name": "python3"
  },
  "language_info": {
   "codemirror_mode": {
    "name": "ipython",
    "version": 3
   },
   "file_extension": ".py",
   "mimetype": "text/x-python",
   "name": "python",
   "nbconvert_exporter": "python",
   "pygments_lexer": "ipython3",
   "version": "3.6.5"
  }
 },
 "nbformat": 4,
 "nbformat_minor": 2
}

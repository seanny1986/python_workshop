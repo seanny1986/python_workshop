{
 "cells": [
  {
   "cell_type": "markdown",
   "metadata": {},
   "source": [
    "# Clustering"
   ]
  },
  {
   "cell_type": "markdown",
   "metadata": {},
   "source": [
    "## 1. Introduction\n",
    "\n",
    "Clustering involves organising objects in a space according to their similarity to one another. Clustering is a form of **unsupervised learning**, because we don't need any labels, and instead organize objects according to their features. For example, if we have objects of different sizes and colours, we can cluster them according size or colour, or both.\n",
    "\n",
    "Clustering is particularly useful when we have tasks like compression. For example, say that we have an image with 256 colours, and we want to downsample it to only 16. One way of doing this would be to cluster the data according to colour, and to find the 16 most important colours. If you did this, you could discard all of the remaining colours, and replace them with whichever of the 16 colours they are closest to. For example:\n",
    "\n",
    "![Title](img/toucan.png)\n",
    "\n",
    "In general, clustering lets us both find patterns in data, and reduce its dimensionality where it's beneficial to do so. Finally, clustering using latent spaces is becoming more and more important in the cutting edge of AI, where it's used to autonomously learn lower-dimensional state representations for control algorithms. Rather than dealing with high dimensional representations like pixels, we can compress the data to help our agents learn using a more distilled representation. This isn't just useful in more advanced areas like RL; it's also useful when doing basic data analysis and modelling.\n",
    "\n",
    "In this notebook, we cover three basic techniques: K-Means Clustering, Gaussian Mixture Models, and Deep Autoencoders. These are intended as stepping stones to illustrate the basic techniques, and should provide a good foundation for understanding more advanced methods such as Variational Autoencoders, Mixture Density Networks, and Generative Adversarial Networks."
   ]
  },
  {
   "cell_type": "markdown",
   "metadata": {},
   "source": [
    "## 2. K-Means Clustering"
   ]
  },
  {
   "cell_type": "markdown",
   "metadata": {},
   "source": [
    "K-Means Clustering is a straightforward way of automatically clustering complex datasets. The algorithm works as follows:\n",
    "\n",
    "1. Initialize a set of $k$ observations randomly;\n",
    "2. For each observation, assign the closest datapoints to it as a group;\n",
    "3. For each group, calculate the centroid;\n",
    "4. Update the position of each observation to move to the centroid of its group;\n",
    "5. Repeat steps 2 to 4 until convergence."
   ]
  },
  {
   "cell_type": "code",
   "execution_count": 3,
   "metadata": {},
   "outputs": [
    {
     "data": {
      "image/png": "[encoded data removed]",
      "text/plain": [
       "<Figure size 432x288 with 1 Axes>"
      ]
     },
     "metadata": {},
     "output_type": "display_data"
    }
   ],
   "source": [
    "import numpy as np\n",
    "from IPython.display import clear_output\n",
    "import matplotlib.pyplot as plt\n",
    "%matplotlib inline\n",
    "import random\n",
    "    \n",
    "mux_1, stdx_1 = 2.5, 0.5\n",
    "muy_1, stdy_1 = 2.5, 0.5\n",
    "\n",
    "mux_2, stdx_2 = -0.5, 0.5\n",
    "muy_2, stdy_2 = -0.5, 0.5\n",
    "\n",
    "mux_3, stdx_3 = 0.25, 0.5\n",
    "muy_3, stdy_3 = 2.5, 0.5\n",
    "\n",
    "samples = 100\n",
    "\n",
    "x_1 = np.array([random.gauss(mux_1, stdx_1) for _ in range(samples)])\n",
    "y_1 = np.array([random.gauss(muy_1, stdy_1) for _ in range(samples)])\n",
    "\n",
    "x_2 = np.array([random.gauss(mux_2, stdx_2) for _ in range(samples)])\n",
    "y_2 = np.array([random.gauss(muy_2, stdy_2) for _ in range(samples)])\n",
    "\n",
    "x_3 = np.array([random.gauss(mux_3, stdx_3) for _ in range(samples)])\n",
    "y_3 = np.array([random.gauss(muy_3, stdy_3) for _ in range(samples)])\n",
    "\n",
    "x = np.hstack([x_1, x_2, x_3])\n",
    "y = np.hstack([y_1, y_2, y_3])\n",
    "\n",
    "coords = np.vstack([x, y]).T\n",
    "\n",
    "k = 3\n",
    "obs = np.vstack([np.random.rand(2,) for _ in range(k)])\n",
    "\n",
    "ax = plt.axes()\n",
    "ax.scatter(x, y)\n",
    "ax.scatter(obs[:,0], obs[:,1])\n",
    "plt.show()"
   ]
  },
  {
   "cell_type": "markdown",
   "metadata": {},
   "source": [
    "Below is a fairly naive implementation of a k-means clustering algorithm:"
   ]
  },
  {
   "cell_type": "code",
   "execution_count": 4,
   "metadata": {},
   "outputs": [
    {
     "name": "stdout",
     "output_type": "stream",
     "text": [
      "Initial point locations: \n",
      "[[ 0.88537953  0.8014463 ]\n",
      " [ 0.70489851  0.74238477]\n",
      " [ 0.23181624  0.45355551]]\n",
      "\n",
      "Final point locations: \n",
      "[[ 2.52658272  2.49146181]\n",
      " [ 0.2156173   2.50764906]\n",
      " [-0.49567805 -0.53797218]]\n"
     ]
    },
    {
     "data": {
      "image/png": "[encoded data removed]",
      "text/plain": [
       "<Figure size 432x288 with 1 Axes>"
      ]
     },
     "metadata": {},
     "output_type": "display_data"
    }
   ],
   "source": [
    "print(\"Initial point locations: \")\n",
    "print(obs)\n",
    "\n",
    "for _ in range(5):    \n",
    "    # association step\n",
    "    groups = []\n",
    "    for i, o in enumerate(obs):\n",
    "        collective = []\n",
    "        for j, pt in enumerate(coords):\n",
    "            closest = 100.\n",
    "            closest_idx = 0\n",
    "            for k, p in enumerate(obs):\n",
    "                err = (p-pt)\n",
    "                dist = np.linalg.norm(err)\n",
    "                if dist < closest:\n",
    "                    closest_idx = k\n",
    "                    closest = dist\n",
    "            if closest_idx == i:\n",
    "                collective.append(pt)\n",
    "        groups.append(collective)\n",
    "    \n",
    "    # update step\n",
    "    centroids = []\n",
    "    for i, col in enumerate(groups):\n",
    "        col = np.vstack(col)\n",
    "        centroid = np.sum(col, axis=0)/col.shape[0]\n",
    "        obs[i] = centroid\n",
    "\n",
    "print()\n",
    "print(\"Final point locations: \")\n",
    "print(obs)\n",
    "        \n",
    "ax = plt.axes()\n",
    "for g in groups:\n",
    "    xy = np.vstack(g)\n",
    "    ax.scatter(xy[:,0], xy[:,1])\n",
    "ax.scatter(obs[:,0], obs[:,1])\n",
    "plt.show()"
   ]
  },
  {
   "cell_type": "markdown",
   "metadata": {},
   "source": [
    "As we can see, we've managed to cluster the data fairly effectively. In certain cases, it may be difficult to determine exactly how many centroids there should be. Furthermore, it's possible for the algorithm to get stuck in a local minima (i.e. for more complex datasets, multiple points may reach the same centroid). For this reason, it is standard practice to repeat the algorithm with multiple initializations of $k$, and to pick the solution with the lowest cost.\n",
    "\n",
    "A further problem with k-means is that it assigns hard centroids to the data, which can present issues if, for example, clusters overlap. To get around this, we can use a more advanced clustering algorithm called a Gaussian Mixture Model."
   ]
  },
  {
   "cell_type": "markdown",
   "metadata": {},
   "source": [
    "## 3. Gaussian Mixture Models\n",
    "\n",
    "Another useful clustering algorithm is known as the mixture model. This is actually a soft version of the k-means algorithm. The idea is relatively straightforward: in some situations, we may have data that is multi-modal (i.e. a dataset consisting of multiple clusters as above). An effective way to capture such a distribution is to use a mixture of Gaussians. Each Gaussian is unimodal, but by having a weighted mixture of each, we can cluster very complex datasets.\n",
    "\n",
    "Gaussian Mixture Models are trained using the Expectation Maximization algorithm, which has two phases:\n",
    "1. The expectation step: for each datapoint, estimate the probability that the Gaussian generated it; and,\n",
    "2. The maximization step: modify the parameters to maximize the likelihood of the data.\n",
    "\n",
    "We implement a very basic GMM in the code below:"
   ]
  },
  {
   "cell_type": "code",
   "execution_count": 5,
   "metadata": {},
   "outputs": [
    {
     "data": {
      "image/png": "[encoded data removed]",
      "text/plain": [
       "<Figure size 432x288 with 1 Axes>"
      ]
     },
     "metadata": {},
     "output_type": "display_data"
    }
   ],
   "source": [
    "mu_1 = -1.5\n",
    "sigma_1 = 1\n",
    "\n",
    "mu_2 = 3.5\n",
    "sigma_2 = 2\n",
    "\n",
    "samples = 250\n",
    "\n",
    "x_1 = np.array([random.gauss(mu_1, sigma_1) for _ in range(samples)])\n",
    "x_2 = np.array([random.gauss(mu_2, sigma_2) for _ in range(samples)])\n",
    "xs = np.hstack([x_1, x_2])\n",
    "\n",
    "ax = plt.axes()\n",
    "ax.hist(xs, bins=50)\n",
    "plt.show()"
   ]
  },
  {
   "cell_type": "markdown",
   "metadata": {},
   "source": [
    "Next, the algorithm:"
   ]
  },
  {
   "cell_type": "code",
   "execution_count": 8,
   "metadata": {},
   "outputs": [
    {
     "name": "stdout",
     "output_type": "stream",
     "text": [
      "Initial mus:  [-1.85232901  5.08263132]\n",
      "Initial sigmas:  [ 0.8028375   0.49145211]\n",
      "Initial mix:  [ 0.5  0.5]\n",
      "\n",
      "Iteration: 0, Log-probability: -2141.656\n",
      "Iteration: 10, Log-probability: -1813.177\n",
      "Iteration: 20, Log-probability: -1616.308\n",
      "Iteration: 30, Log-probability: -1490.703\n",
      "Iteration: 40, Log-probability: -1406.752\n",
      "\n",
      "Final mus:  [-1.65513376  4.95459868]\n",
      "Final sigma:  [ 1.21140831  0.86885213]\n",
      "Final mix:  [ 0.52874763  0.47125237]\n"
     ]
    }
   ],
   "source": [
    "from math import pi, sqrt, exp\n",
    "\n",
    "gaussian_pdf = lambda x, mu, sigma : (1/np.sqrt(2*pi*sigma**2))*np.exp(-(x-mu)**2/(2*(sigma**2)))\n",
    "\n",
    "k = 2\n",
    "mus = np.array([mu_1+np.random.randn(), mu_2+np.random.randn()])\n",
    "sigmas = np.hstack([np.random.rand() for _ in range(k)])\n",
    "mix = np.array([1/k for _ in range(k)])\n",
    "\n",
    "print(\"Initial mus: \", mus)\n",
    "print(\"Initial sigmas: \", sigmas)\n",
    "print(\"Initial mix: \", mix)\n",
    "print()\n",
    "\n",
    "xs_array = np.vstack([xs, xs]).T\n",
    "alpha = 5e-3\n",
    "\n",
    "for it in range(50):\n",
    "    # expectation step\n",
    "    mix_array = np.vstack([mix for _ in range(xs.shape[0])]).T\n",
    "    mus_array = np.vstack([mus for _ in range(xs.shape[0])]).T\n",
    "    sigmas_array = np.vstack([sigmas for _ in range(xs.shape[0])]).T\n",
    "    weights = []\n",
    "    for i, pt in enumerate(xs):\n",
    "        weight = []\n",
    "        for j in range(k):\n",
    "            prob = mix[j]*gaussian_pdf(pt, mus[j], sigmas[j])\n",
    "            weight.append(prob)\n",
    "        weights.append(weight)\n",
    "    \n",
    "    weight_array = np.array(weights)\n",
    "    denominators = np.sum(weight_array, axis=1)\n",
    "    rs = []\n",
    "    for i, pt in enumerate(xs):\n",
    "        r = weight_array[i,:]/denominators[i]\n",
    "        rs.append(r)\n",
    "    log_prob = np.sum(np.log(denominators), axis=0)\n",
    "    rs = np.array(rs)\n",
    "    if it % 10 == 0:\n",
    "        print(\"Iteration: {}, Log-probability: {:.3f}\".format(it, log_prob))\n",
    "    \n",
    "    # maximization step\n",
    "    mix = (1-alpha)*mix+alpha*np.mean(rs, axis=0)\n",
    "    mus = (1-alpha)*mus+alpha*np.sum(rs*xs_array,axis=0)/np.sum(rs, axis=0)\n",
    "    cum_sum = 0\n",
    "    for i, pt in enumerate(xs):\n",
    "        err = pt-mus\n",
    "        cum_sum += rs[i,:]*(err**2)\n",
    "    sigmas = (1-alpha)*sigmas+alpha*cum_sum/np.sum(rs, axis=0)\n",
    "\n",
    "print()\n",
    "print(\"Final mus: \", mus)\n",
    "print(\"Final sigma: \", sigmas)\n",
    "print(\"Final mix: \", mix)"
   ]
  },
  {
   "cell_type": "markdown",
   "metadata": {},
   "source": [
    "As we can see, the log-likelihood is slowly maximized. We check the performance of our model below:"
   ]
  },
  {
   "cell_type": "code",
   "execution_count": 9,
   "metadata": {},
   "outputs": [
    {
     "data": {
      "image/png": "[encoded data removed]",
      "text/plain": [
       "<Figure size 432x288 with 1 Axes>"
      ]
     },
     "metadata": {},
     "output_type": "display_data"
    }
   ],
   "source": [
    "pred = lambda x, pi, mu, sigma : np.sum(pi * gaussian_pdf(x, mu, sigma))\n",
    "\n",
    "x_test = np.linspace(-6,10,50)\n",
    "preds = []\n",
    "for x in x_test:\n",
    "    tiled = np.array([x, x])\n",
    "    output = pred(tiled, mix, mus, sigmas)\n",
    "    preds.append(output)\n",
    "\n",
    "ax = plt.axes()\n",
    "ax.plot(x_test, np.array(preds))\n",
    "ax.hist(xs, bins=50, density=True)\n",
    "plt.show()"
   ]
  },
  {
   "cell_type": "markdown",
   "metadata": {},
   "source": [
    "In this case, we managed to get a nice fit, but it sometimes takes a few tries to get something that converges to a good result. We had to use a few small additions to improve the stability and convergence of the algorithm:\n",
    "\n",
    "1. We initialized the means close to where the true means were. We can actually use k-means for this initial step.\n",
    "2. We used a small update step for the mixing coefficients, means, and sigmas. This is standard practice in cases where our function can blow-up. In this case, we can feasibly divide by zero, so we make small changes to our initial guesses to mitigate this.\n",
    "\n",
    "This example really only works for the 1D case, and would need to be modified for the 2D case. To do so, you would need to modify the Gaussian pdf to be a multivariate distribution (with a covariance matrix), and you would need to update the learning rule for $\\Sigma$.\n",
    "\n",
    "The advantage of a Gaussian Mixture Model is that -- now that we have a clustering of our data -- we can generate new examples by sampling from the PDF (as their name implies, models that can generate new examples are called **generative models**). This is a relatively straightforward process: \n",
    "\n",
    "1. First, we categorically sample from the mixing distribution (e.g. if we have two mixing values of $[0.1, 0.9]$, we choose index 0 10% of the time, and index 1 90% of the time).\n",
    "2. Once we have the index, we randomly sample from the corresponding Gaussian function.\n",
    "\n",
    "This is shown in code below:"
   ]
  },
  {
   "cell_type": "code",
   "execution_count": 10,
   "metadata": {},
   "outputs": [
    {
     "data": {
      "image/png": "[encoded data removed]",
      "text/plain": [
       "<Figure size 432x288 with 1 Axes>"
      ]
     },
     "metadata": {},
     "output_type": "display_data"
    }
   ],
   "source": [
    "def sample_gmm(mixes, mus, sigmas):\n",
    "    idx = np.argmax(np.random.multinomial(1, mixes))\n",
    "    return np.random.normal(mus[idx], sigmas[idx])\n",
    "\n",
    "generated_data = []\n",
    "for i in range(500):\n",
    "    generated_data.append(sample_gmm(mix, mus, sigmas))\n",
    "\n",
    "ax = plt.axes()\n",
    "ax.plot(x_test, np.array(preds))\n",
    "ax.hist(generated_data, bins=50, density=True)\n",
    "ax.hist(xs, bins=50, density=True)\n",
    "plt.show()"
   ]
  },
  {
   "cell_type": "markdown",
   "metadata": {},
   "source": [
    "As the figure shows, we managed to get a good approximation of the original distribution. \n",
    "\n",
    "In the next section, we'll look at how we can do clustering with deep neural networks."
   ]
  },
  {
   "cell_type": "markdown",
   "metadata": {},
   "source": [
    "## 4. Clustering With Neural Networks"
   ]
  },
  {
   "cell_type": "markdown",
   "metadata": {},
   "source": [
    "We can automatically cluster with neural networks using an architecture known as an autoencoder. Autoencoders are a form of unsupervised learning, meaning we don't need labels to train the network. Unlike a standard supervised learning task in which the network is trained to maximize $\\frac{1}{2N}\\sum_{i=i}^{N}-(y-y^{*})^{2}$, autoencoders use the loss function:\n",
    "\n",
    "\\begin{equation}\n",
    "\\mathcal{L} = \\frac{1}{2NM}\\sum_{i=i}^{M}\\sum_{j=1}^{N}-(X_{ij}-X_{ij}^{*})^{2}\n",
    "\\end{equation}\n",
    "\n",
    "Which is to say that the network learns to reconstruct its input. This is done through the use of a split architecture:\n",
    "\n",
    "![title](img/autoencoder.png)\n",
    "\n",
    "The network consists of two parts: and encoder and a decoder. The encoder takes the input, and outputs a compressed representation $z$; the decoder takes $z$ as input and outputs an estimate of the input $X$, such that $X \\approx X^{*}$. The trick is that the dimensionality of $z$ is much lower than the dimensionality of $X$, meaning that the network has to discard non-essential information. The result is that the network automatically learns a clustering of inputs in the latent space $z$.\n",
    "\n",
    "We implement this in the code below:"
   ]
  },
  {
   "cell_type": "code",
   "execution_count": 50,
   "metadata": {},
   "outputs": [],
   "source": [
    "import torch\n",
    "import torchvision\n",
    "from torch import nn\n",
    "from torch.autograd import Variable\n",
    "from torch.utils.data import DataLoader\n",
    "from torchvision import transforms\n",
    "from torchvision.datasets import MNIST\n",
    "from torchvision.utils import save_image\n",
    "\n",
    "# first, grab our data\n",
    "batch_size = 128\n",
    "img_transform = transforms.Compose([\n",
    "    transforms.ToTensor(),\n",
    "    transforms.Normalize((0.5, 0.5, 0.5), (0.5, 0.5, 0.5))\n",
    "])\n",
    "\n",
    "dataset = MNIST('./data', transform=img_transform, download=True)\n",
    "dataloader = DataLoader(dataset, batch_size=batch_size, shuffle=True)\n",
    "\n",
    "# next, write our autoencoder class\n",
    "class Autoencoder(nn.Module):\n",
    "    def __init__(self):\n",
    "        super(Autoencoder, self).__init__()\n",
    "        \n",
    "        self.encoder = nn.Sequential(\n",
    "            nn.Linear(28 * 28, 128),\n",
    "            nn.ReLU(True),\n",
    "            nn.Linear(128, 64),\n",
    "            nn.ReLU(True), \n",
    "            nn.Linear(64, 12), \n",
    "            nn.ReLU(True), \n",
    "            nn.Linear(12, 2))\n",
    "        \n",
    "        self.decoder = nn.Sequential(\n",
    "            nn.Linear(2, 12),\n",
    "            nn.ReLU(True),\n",
    "            nn.Linear(12, 64),\n",
    "            nn.ReLU(True),\n",
    "            nn.Linear(64, 128),\n",
    "            nn.ReLU(True), \n",
    "            nn.Linear(128, 28 * 28), \n",
    "            nn.Tanh())\n",
    "\n",
    "    def forward(self, x):\n",
    "        x = self.encoder(x)\n",
    "        x = self.decoder(x)\n",
    "        return x"
   ]
  },
  {
   "cell_type": "markdown",
   "metadata": {},
   "source": [
    "I've given our network a 2D latent space, so that we can plot it easily once the network is trained. In practice, the dimensionality of the latent space can be whatever the engineer chooses; it's a hyperparameter that is tuned to best suit the task at hand.\n",
    "\n",
    "To train it, we use the following loop:"
   ]
  },
  {
   "cell_type": "code",
   "execution_count": 51,
   "metadata": {},
   "outputs": [
    {
     "name": "stdout",
     "output_type": "stream",
     "text": [
      "epoch [1/10], loss:0.2080\n"
     ]
    }
   ],
   "source": [
    "learning_rate = 1e-3\n",
    "model = Autoencoder()\n",
    "loss_func = nn.MSELoss()\n",
    "optimizer = torch.optim.Adam(model.parameters(), lr=learning_rate, weight_decay=1e-5)\n",
    "\n",
    "log_freq = 1\n",
    "iters = 10\n",
    "for epoch in range(iters):\n",
    "    for data in dataloader:\n",
    "        img, _ = data\n",
    "        img = img.view(img.size(0), -1)\n",
    "        output = model(img)\n",
    "        loss = loss_func(output, img)\n",
    "        optimizer.zero_grad()\n",
    "        loss.backward()\n",
    "        optimizer.step()\n",
    "    if epoch % log_freq == 0:\n",
    "        print('epoch [{}/{}], loss:{:.4f}'.format(epoch + 1, iters, loss.item()))\n",
    "        pic = to_img(output.cpu().data)"
   ]
  },
  {
   "cell_type": "markdown",
   "metadata": {},
   "source": [
    "This is similar to our previous loops, except that now we're minimizing the loss between the ouput of the network, and our image input, rather than the output and the labels.\n",
    "\n",
    "We can visualize the clustering the latent space by feeding inputs into the encoder, and then plotting the latent space:"
   ]
  },
  {
   "cell_type": "code",
   "execution_count": 62,
   "metadata": {},
   "outputs": [
    {
     "data": {
      "image/png": "[encoded data removed]",
      "text/plain": [
       "<Figure size 432x288 with 1 Axes>"
      ]
     },
     "metadata": {},
     "output_type": "display_data"
    }
   ],
   "source": [
    "encodings = []\n",
    "labels = []\n",
    "for data in dataloader:\n",
    "    with torch.no_grad():\n",
    "        img, label = data\n",
    "        img = img.view(img.size(0), -1)\n",
    "        encoded = model.encoder(img)\n",
    "        encodings.append(encoded.numpy())\n",
    "        labels.append(label.numpy())\n",
    "\n",
    "ax = plt.axes()\n",
    "a, b, c, d, e, f, g, h, i, j = [], [], [], [], [], [], [], [], [], [] \n",
    "for o, (enc, label) in enumerate(zip(encodings, labels)):\n",
    "    for p in range(label.shape[0]):\n",
    "        if label[p] == 0:\n",
    "            a.append(enc[p])\n",
    "        if label[p] == 1:\n",
    "            b.append(enc[p])\n",
    "        if label[p] == 2:\n",
    "            c.append(enc[p])\n",
    "        if label[p] == 3:\n",
    "            d.append(enc[p])\n",
    "        if label[p] == 4:\n",
    "            e.append(enc[p])\n",
    "        if label[p] == 5:\n",
    "            f.append(enc[p])\n",
    "        if label[p] == 6:\n",
    "            g.append(enc[p])\n",
    "        if label[p] == 7:\n",
    "            h.append(enc[p])\n",
    "        if label[p] == 8:\n",
    "            i.append(enc[p])\n",
    "        if label[p] == 9:\n",
    "            j.append(enc[p])\n",
    "\n",
    "organized = [a, b, c, d, e, f, g, h, i, j]\n",
    "for d in organized:\n",
    "    xys = np.vstack(d)\n",
    "    ax.scatter(xys[:,0], xys[:,1])\n",
    "plt.show()"
   ]
  },
  {
   "cell_type": "markdown",
   "metadata": {},
   "source": [
    "As we can see, the network has learned to cluster the individual numbers without us having to provide any additional inputs or labels. Unlike the previous clustering algorithms, the dimensionality in the latent space of the autoencoder has unknown units. It's just an amorphous $z$. However, this type of representation can be very useful for learning more intelligent agents, since it creates a more information-dense space to work with. This is particularly useful when working with very high-dimensional, information-poor representations such as image pixels.\n",
    "\n",
    "More modern autoencoder designs typically enforce a constraint on the latent variable $z$, by compressing it onto a probability distribution $z \\sim \\mathcal{N}\\left(0, I\\right)$. The advantage of this is that it lets us sample from the distribution, and generate new examples (i.e. it is a generative model). This technology is what underlies some of the major advances in deep learning over the past two years."
   ]
  },
  {
   "cell_type": "markdown",
   "metadata": {},
   "source": [
    "## 5. Summary\n",
    "In this notebook, we've covered several unsupervised learning algorithms that are designed to cluster data. We've covered not only traditional methods such as k-means and the Gaussian Mixture Model -- we've also included a brief look into using deep neural networks to perform clustering in a latent space. \n",
    "\n",
    "You might ask what some of these algorithms are useful for? Clustering has found applications in compression, where it can be used to downsample images and video. Autoencoders are being heavily researched for their ability to make learning easier, by taking complex state information, and compressing it into a form that is more easily used by a neural net. This has application in reinforcement learning, and is the backbone of cutting edge generative models such as VAEs and GANs."
   ]
  }
 ],
 "metadata": {
  "kernelspec": {
   "display_name": "Python 3",
   "language": "python",
   "name": "python3"
  },
  "language_info": {
   "codemirror_mode": {
    "name": "ipython",
    "version": 3
   },
   "file_extension": ".py",
   "mimetype": "text/x-python",
   "name": "python",
   "nbconvert_exporter": "python",
   "pygments_lexer": "ipython3",
   "version": "3.6.5"
  }
 },
 "nbformat": 4,
 "nbformat_minor": 2
}

{
 "cells": [
  {
   "cell_type": "markdown",
   "metadata": {},
   "source": [
    "# Monte Carlo Methods\n",
    "\n",
    "## 1. Introduction\n",
    "\n",
    "This notebook introduces the basics of Monte Carlo methods for numerically solving problems that may be intractable analytically. In general, our goal will be to solve problems in expectation, using the law of total expectation:\n",
    "\n",
    "$\\mathbf{E}_{x \\sim p}[f(x)] = \\int_{x}p(x)f(x)dx$\n",
    "\n",
    "Variants of this type of problem are fairly common in, for example, reinforcement learning and machine learning, where we estimate and minimize some expected cost function. Further applications exist in areas such as finance, where the goal is to model returns on investment portfolios. For many interesting problems, finding an analytical solution is either impossible, or far more difficult than approximating the solution numerically.\n",
    "\n",
    "The structure of this notebook is as follows:\n",
    "\n",
    "1. We first introduce the ideas of expected values and integration.\n",
    "2. We demonstrate methods for calculating the expected value of a function $f(x)$.\n",
    "3. We show methods for estimating the value of the integral of $f(x)$ on the interval $[a,b]$.\n",
    "4. We show methods for calculating the gradient of $f(x)$ at a point of interest.\n",
    "5. We go through methods of variance reduction that can help make our estimates more computationally feasible and accurate for a larger set of problems.\n",
    "\n",
    "Throughout, each example will be accompanied with code that can be run independent of the other examples. This code will show a very basic implementation of the idea in question, written in numpy/scipy. Variance reduction methods will come with associated code to show that they do, indeed, reduce variance. The implementation is intended to allow students to interrogate the code in order to figure out under what conditions these methods work.\n",
    "\n",
    "\n",
    "## 2. Expected Values and Integration\n",
    "\n",
    "Equation 1 above gives the general form of the expected value of a function, which lets us estimate the expected value of the function using:\n",
    "\n",
    "$\\mathbf{E}_{x \\sim p}[f(x)] = \\int_{x}p(x)f(x)dx \\approx \\frac{1}{N}\\sum_i^{N}f(x_i)$\n",
    "\n",
    "To see that this is true, we can approximate the integral of a function $f(x)$ as being: \n",
    "\n",
    "$\\int_{x}p(x)f(x)dx \\approx \\sum_i p(x_i)f(x_i) \\Delta x$ \n",
    "\n",
    "where $\\Delta x$ is a fixed step size (i.e. this is a Riemann sum). Assuming a fixed interval $[a, b]$ over which we're integrating, we can choose a number of \"slices\" for the Riemann sum, and calculate the step size using:\n",
    "\n",
    "$\\Delta x = \\frac{(a-b)}{N}$\n",
    "\n",
    "Which, plugging back into our original equation, gives:\n",
    "\n",
    "$\\int_{x}p(x)f(x)dx \\approx \\sum_i p(x_i)f(x_i) \\Delta x = \\sum_i p(x_i)f(x_i) \\frac{(a-b)}{N}$\n",
    "\n",
    "If $p(x)$ is a uniform distribution on $[a, b]$, then $(a-b) = \\frac{1}{p(x)}$, leaving $\\int_{x}p(x)f(x)dx \\approx \\sum_i f(x_i) \\frac{1}{N} = \\frac{1}{N}\\sum_i^{N}f(x_i)$. If $p(x)$ isn't a uniform distribution, we can call $(a-b) = \\frac{1}{q(x)}$, which gives us a weighted average of the function:\n",
    "\n",
    "$\\int_{x}p(x)f(x)dx \\approx \\sum_i p(x_i)f(x_i) \\Delta x = \\frac{1}{N}\\sum_i \\frac{p(x_i)}{q(x_i)}f(x_i)$\n",
    "\n",
    "Note that in this case, we have chosen our step size as being distributed by $q(x)$, so the expectation is now:\n",
    "\n",
    "$\\frac{1}{N}\\sum_i \\frac{p(x_i)}{q(x_i)}f(x_i) \\approx \\mathbf{E}_{x \\sim q}\\left[\\frac{p(x_i)}{q(x_i)}f(x)\\right] = \\int_x q(x) \\frac{p(x)}{q(x)} f(x) dx$\n",
    "\n",
    "This is known as importance sampling, and can be useful in cases where the events that we're interested in are very rare under $p(x)$. Though we've used it with a uniform distribution above, the technique is general, and works with any distribution (though for definite integrals, we will usually use a uniform distribution somewhere to assign zero probability to samples outside of the interval that we're integrating over). More generally, we can propose a new distribution $q(x)$ to make the events we're interested in more frequent, but we need to correct for the fact that we've now introduced bias into our sampling procedure. \n",
    "\n",
    "Finally, these ideas imply that we can use the expected value over an interval to calculate an integral. To show this:\n",
    "\n",
    "$\\int_x f(x) dx \\approx \\sum_i f(x_i) \\frac{(b - a)}{N} = \\frac{\\mathbf{E}_{x \\sim p} \\left[f(x)\\right]}{p(x)}$\n",
    "\n",
    "For $x \\sim \\mathcal{U}(a, b)$. Similarly for a multivariate function:\n",
    "\n",
    "$\\int_y\\int_x f(x, y) dx dy \\approx \\sum_i \\sum_j f(x_j, y_i) \\Delta x \\Delta y$\n",
    "\n",
    "$\\sum_i \\sum_j f(x_j, y_i) \\Delta x \\Delta y = \\frac{(d - c)}{N_y}\\sum_i \\frac{(b - a)}{N_x}\\sum_j f(x_j, y_i)$\n",
    "\n",
    "$\\frac{(d - c)}{N_y}\\sum_i \\frac{(b - a)}{N_x}\\sum_j f(x_j, y_i) = \\frac{\\mathbf{E}_{y \\sim q}\\left[\\mathbf{E}_{x\\sim p}\\left[f(x,y)|y\\right]\\right]}{p(x)q(y)} = \\frac{\\mathbf{E}_{x\\sim p, y \\sim q}\\left[f(x,y)\\right]}{p(x)q(y)}$\n",
    "\n",
    "For $x \\sim \\mathcal{U}(a, b)$, $y \\sim \\mathcal{U}(c, d)$ (though the expectations hold more generally). The final equality suggests that we can evaluate a multivariate integral using only a single Monte Carlo integral by sampling $x$ and $y$ from $p(x)$ and $q(y)$ respectively, evaluating the function $f(x,y)$ at those points, taking the expectation, and then dividing by $p(x)q(y)$. This logic holds for any number of dimensions. One thing to be careful of is that as the dimensionality of the problem increases, so too will the number of samples required for integration; the relative sparsity of N points on the interval $[a, b]$ will be lower than for the area $[a,b]\\times[c,d]$, and so on. We could also sample from a joint distribution $p(x,y)$, and use this to integrate over the interval (an example of this using copulae is demonstrated further on).\n",
    "\n",
    "To illustrate these ideas, see the code below:\n",
    "\n",
    "### 2.1 Calculating Expected Values and Integrals"
   ]
  },
  {
   "cell_type": "code",
   "execution_count": 12,
   "metadata": {},
   "outputs": [
    {
     "name": "stdout",
     "output_type": "stream",
     "text": [
      "expected value:  12.1209713048\n",
      "integral value:  72.7258278287\n",
      "\n",
      "expected value:  12.018005999999813\n",
      "integral value:  72.10803599999888\n"
     ]
    }
   ],
   "source": [
    "import numpy as np\n",
    "\n",
    "f = lambda x: x ** 2\n",
    "\n",
    "# we will integrate the function f = x^2 in the interval [a,b]\n",
    "a = 0\n",
    "b = 6\n",
    "samples = 1000\n",
    "x = np.random.uniform(low=a, high=b, size=samples)\n",
    "y = f(x)\n",
    "expected = np.mean(y)\n",
    "print(\"expected value: \", expected)\n",
    "print(\"integral value: \", expected * (b - a))\n",
    "\n",
    "\n",
    "# next, we will do numerical integration over the same interval to calculate the value\n",
    "dx = (b - a) / samples\n",
    "integral = 0\n",
    "x = 0\n",
    "for i in range(samples + 1):\n",
    "    integral += f(x) * dx\n",
    "    x += dx\n",
    "print()\n",
    "print(\"expected value: \", integral / (b - a))\n",
    "print(\"integral value: \", integral)"
   ]
  },
  {
   "cell_type": "markdown",
   "metadata": {},
   "source": [
    "### 2.2 Importance Sampling"
   ]
  },
  {
   "cell_type": "code",
   "execution_count": 61,
   "metadata": {},
   "outputs": [
    {
     "name": "stdout",
     "output_type": "stream",
     "text": [
      "expected value:  12.0397040986\n",
      "integral value:  72.2382245916\n"
     ]
    }
   ],
   "source": [
    "import numpy as np\n",
    "from math import sqrt, pi\n",
    "\n",
    "f = lambda x: x ** 2\n",
    "normal_pdf = lambda x, mu, sigma: 1/(sigma * sqrt(2 * pi)) * np.exp(-0.5 * ((x - mu) / sigma) ** 2)\n",
    "uniform_pdf = lambda xs, a, b: np.array([1/(b - a) if x < b and x > a else 0 for x in xs])\n",
    "\n",
    "a = 0\n",
    "b = 6\n",
    "samples = 10000\n",
    "mu = 0.5\n",
    "sigma = 15\n",
    "x = np.random.normal(mu, sigma, size=samples)\n",
    "y = f(x)\n",
    "w = uniform_pdf(x, a, b) / normal_pdf(x, mu, sigma)\n",
    "expected = np.mean(w * y)\n",
    "print(\"expected value: \", expected)\n",
    "print(\"integral value: \", expected * (b - a))"
   ]
  },
  {
   "cell_type": "markdown",
   "metadata": {},
   "source": [
    "As we can see, we get a similar result to the previous example. One thing to be careful of is that our biased sampling can improve our integral estimate, but it can also make it worse if the distribution we choose has poor (or no) support on the interval that we're integrating over. For example, the $\\sigma$ for the distribution $q(x)$ above is 15 in order to ensure that our samples have good coverage of the interval, and our uniform PDF assigns zero probability to anything outside of the interval. This means that we need to take many more samples to get a decent approximation of the functions we're interested in. What happens if you reduce the standard deviation of $q$ to a small value? What happens if you make $q(x)$ uniform with support greater than that of $p(x)$? What happens if the interval of $q(x)$ doesn't cover $p(x)$?\n",
    "\n",
    "### 2.3 Self-Normalized Importance Sampling\n",
    "\n",
    "In many cases, we want to sample from a distribution, but we only know it up to a normalizing constant. I.e. our distribution is:\n",
    "\n",
    "$p(x) = \\frac{g(x)}{\\int_x g(x) dx} = \\frac{g(x)}{Z}$\n",
    "\n",
    "Say that we have two unnormalized distributions, $g(x)$, as above, and $h(x)$. If we're lucky, and $Z_g = Z_h$, then we can use standard importance sampling as above, since the constants cancel:\n",
    "\n",
    "$\\frac{p(x)}{q(x)} = \\frac{Z_h g(x)}{Z_g h(x)} = \\frac{g(x)}{h(x)}$\n",
    "\n",
    "In cases where the normalizing constants are different, we need to utilize self-normalized importance sampling:\n",
    "\n",
    "$\\int_x p(x)f(x)dx = \\int_x \\frac{p(x)}{q(x)}f(x)q(x)dx$\n",
    "\n",
    "$\\int_x p(x)f(x)dx = \\frac{\\int_x \\frac{p(x)}{q(x)}f(x)q(x)dx}{\\int_x \\frac{p(x)}{q(x)}q(x)dx}$\n",
    "\n",
    "Since ${\\int_x \\frac{p(x)}{q(x)}q(x)dx} = 1$. Then:\n",
    "\n",
    "$\\int_x p(x)f(x)dx = \\frac{\\int_x \\frac{g(x)}{h(x)}f(x)q(x)dx}{\\int_x \\frac{g(x)}{h(x)}q(x)dx}$\n",
    "\n",
    "$\\int_x p(x)f(x)dx = \\frac{\\mathbf{E}\\left[\\frac{g(x)}{h(x)}f(x)\\right]}{\\mathbf{E}\\left[\\frac{g(x)}{h(x)}\\right]}$\n",
    "\n",
    "In this way we can still get an estimate of $f(x)$ even without normalized distributions. For an example in code, see below:"
   ]
  },
  {
   "cell_type": "code",
   "execution_count": 14,
   "metadata": {},
   "outputs": [
    {
     "name": "stdout",
     "output_type": "stream",
     "text": [
      "Self weighted import sampling estimate:  11.3132085311\n",
      "Standard estimate:  11.945458935\n"
     ]
    }
   ],
   "source": [
    "import numpy as np\n",
    "from math import sqrt, pi\n",
    "\n",
    "f = lambda x: x ** 2\n",
    "normal_pdf = lambda x, mu, sigma: 1/(sigma * sqrt(2 * pi)) * np.exp(-0.5 * ((x - mu) / sigma) ** 2)\n",
    "uniform_pdf = lambda xs, a, b: np.array([1/(b - a) if x < b and x > a else 0 for x in xs])\n",
    "\n",
    "# build unnormalized distributions and calc self-weighted importance sampling estimate\n",
    "Z_g = 2\n",
    "Z_h = 3\n",
    "a = 0\n",
    "b = 6\n",
    "samples = 10000\n",
    "mu = (b - a) / 2\n",
    "sigma = 15\n",
    "x = np.random.normal(mu, sigma, size=samples)\n",
    "g_x = Z_g * uniform_pdf(x, a, b)\n",
    "h_x = Z_h * normal_pdf(x, mu, sigma)\n",
    "y = f(x)\n",
    "w = g_x / h_x\n",
    "\n",
    "# calculate standard estimate\n",
    "x_ = np.random.uniform(a, b, size=samples)\n",
    "y_ = f(x_)\n",
    "expected = np.mean(w * y)/np.mean(w)\n",
    "print(\"Self weighted import sampling estimate: \", expected)\n",
    "print(\"Standard estimate: \", np.mean(y_))"
   ]
  },
  {
   "cell_type": "markdown",
   "metadata": {},
   "source": [
    "## 3. Gradients\n",
    "\n",
    "So now we know how to calculate the average value of a function $f(x)$ over an interval, and its integral over that interval. What if we want to calculate its gradient at a point? There are a few ways we can do this using Monte Carlo methods. The first and simplest is known as the score function:\n",
    "\n",
    "### 3.1 Score Function Estimator\n",
    "\n",
    "Let:\n",
    "\n",
    "$\\nabla\\mathbf{E}_{x \\sim p}[f(x)] = \\nabla\\int_{x}p(x)f(x)dx \\approx \\nabla\\frac{1}{N}\\sum_i^{N}f(x_i)$\n",
    "\n",
    "We can't take the gradient with respect to $x$ in the above case, since that undoes the integral (and hence the expectation). What we can do instead is parameterize $p(x)$ as a function of a new parameter $\\theta$, such that we now have $p_{\\theta}(x)$. Next, we're going to take the gradient of our function with respect to $\\theta$, which lets us move it under the integral sign:\n",
    "\n",
    "$\\nabla_{\\theta}\\mathbf{E}_{x \\sim p}[f(\\theta)] = \\int_{x}\\nabla_{\\theta}p_{\\theta}(x)f(x)dx \\approx \\frac{1}{N}\\sum_i^{N} \\nabla_{\\theta}f(x_i)$\n",
    "\n",
    "Notice that we can now introduce a clever identity: \n",
    "\n",
    "$\\nabla_{\\theta}p_{\\theta}(x) = p_{\\theta}(x)\\frac{\\nabla_{\\theta}p_{\\theta}(x)}{p_{\\theta}(x)} = p_{\\theta}(x)\\nabla_{\\theta}\\log{p_{\\theta}(x)}$\n",
    "\n",
    "Subbing this back into the above equation, we get:\n",
    "\n",
    "$\\nabla_{\\theta}\\mathbf{E}_{x \\sim p}[f(\\theta)] = \\int_{x}p_{\\theta}(x)\\nabla_{\\theta}\\log{p_{\\theta}(x)}f(x)dx \\approx \\mathbf{E}_{x \\sim p}\\left[\\nabla_{\\theta}\\log{p_{\\theta}(x)f(x)}\\right]$\n",
    "\n",
    "To see how we can use this to calculate the gradient of a function $f(x)$ at a point $x=\\theta$, we do a quick example below:\n",
    "\n",
    "Let $f(x) = x^2$, and $x \\sim \\mathcal{N}(\\theta, \\sigma)$. Then:\n",
    "\n",
    "$p_{\\theta}(x) = \\frac{1}{\\sigma\\sqrt{2\\pi}}e^{-0.5\\left(\\frac{x - \\theta}{\\sigma}\\right)^2}$\n",
    "\n",
    "$\\log{p_{\\theta}(x)} = -\\log{K}-0.5\\left(\\frac{x - \\theta}{\\sigma}\\right)^2$\n",
    "\n",
    "$\\nabla_{\\theta}\\log{p_{\\theta}(x)} = \\frac{1}{\\sigma^2}\\left(x - \\theta\\right)$\n",
    "\n",
    "$\\mathbf{E}_{x\\sim p}\\left[\\nabla_{\\theta}\\log{p_{\\theta}(x)}f(x)\\right] \\approx \\frac{1}{\\sigma^2 N}\\sum_i\\left(x_i - \\theta\\right)f(x_i)$\n",
    "\n",
    "If $\\sigma = 1$, this simplifies to $\\frac{1}{N}\\sum_i\\left(x_i - \\theta\\right)f(x_i)$.\n",
    "\n",
    "To see this working in code:"
   ]
  },
  {
   "cell_type": "code",
   "execution_count": 48,
   "metadata": {},
   "outputs": [
    {
     "name": "stdout",
     "output_type": "stream",
     "text": [
      "gradient of f(x) at point 3.00: 6.19\n"
     ]
    }
   ],
   "source": [
    "import numpy as np\n",
    "from math import pi, log\n",
    "\n",
    "f = lambda x: x ** 2\n",
    "grad_log_prob = lambda theta, sigma, x: (x - theta) / sigma**2\n",
    "\n",
    "samples = 1000\n",
    "theta = 3\n",
    "sigma = 1\n",
    "x = np.random.normal(theta, sigma, samples)\n",
    "glp = grad_log_prob(theta, sigma, x)\n",
    "grad_f = np.mean(glp * f(x))\n",
    "print(\"gradient of f(x) at point {:.2f}: {:.2f}\".format(theta, grad_f))"
   ]
  },
  {
   "cell_type": "markdown",
   "metadata": {},
   "source": [
    "As we can see, this works to calculate the gradient at the point where $\\theta$ is our point of interest.\n",
    "\n",
    "We can also combine this idea with importance sampling as outlined above. Essentially:\n",
    "\n",
    "$\\nabla_{\\theta}\\mathbf{E}_{x \\sim p}[f(\\theta)] = \\int_{x}\\frac{q(x)}{q(x)}p_{\\theta}(x)\\nabla_{\\theta}\\log{p_{\\theta}(x)}f(x)dx \\approx \\mathbf{E}_{x \\sim q}\\left[\\frac{p_{\\theta}(x)}{q(x)}\\nabla_\\theta\\log{p_{\\theta}(x)f(x)}\\right]$\n",
    "\n",
    "To demonstrate this point, we implement the following example:"
   ]
  },
  {
   "cell_type": "code",
   "execution_count": 55,
   "metadata": {},
   "outputs": [
    {
     "name": "stdout",
     "output_type": "stream",
     "text": [
      "gradient of f(x) at point 3.00: 6.22\n"
     ]
    }
   ],
   "source": [
    "import numpy as np\n",
    "from math import pi, log, sqrt\n",
    "\n",
    "f = lambda x: x ** 2\n",
    "normal_pdf = lambda x, mu, sigma: 1/(sigma * sqrt(2 * pi)) * np.exp(-0.5 * ((x - mu) / sigma) ** 2)\n",
    "grad_log_prob = lambda theta, sigma, x: (x - theta) / sigma**2\n",
    "\n",
    "samples = 10000\n",
    "theta = 3\n",
    "\n",
    "mu_q = 0.5\n",
    "sigma_q = 15\n",
    "\n",
    "mu_p = theta\n",
    "sigma_p = 2\n",
    "\n",
    "x = np.random.normal(mu_q, sigma_q, samples)\n",
    "glp = grad_log_prob(theta, sigma_p, x)\n",
    "w = normal_pdf(x, mu_p, sigma_p) / normal_pdf(x, mu_q, sigma_q)\n",
    "grad_f = np.mean(w * glp * f(x))\n",
    "print(\"gradient of f(x) at point {:.2f}: {:.2f}\".format(theta, grad_f))"
   ]
  },
  {
   "cell_type": "markdown",
   "metadata": {},
   "source": [
    "The score function method is the workhorse of REINFORCE-based policy search methods in reinforcement learning. Typically, we parameterize a neural network that outputs a mean and log-variance. Actions are sampled from this distribution, and the \"value\" of the policy is assessed using its return. The score function estimator is then used to step the policy weights in the direction that maximizes the return using gradient ascent.\n",
    "\n",
    "### 3.2 Change of Variables (Reparameterization Trick)\n",
    "\n",
    "There's an alternative method for calculating the gradient that results from the Change of Variables theorem. An equivalent representation to the score function estimator is:\n",
    "\n",
    "$\\int_{x}p_\\theta(x)\\nabla_{\\theta}\\log{p_{\\theta}(x)}f(x)dx = \\int_{\\epsilon}\\nabla_{x}f(g(\\theta; \\epsilon))\\nabla_{\\theta}g(\\theta; \\epsilon)p(\\epsilon)d\\epsilon$\n",
    "\n",
    "That is, we make $x$ a function of $\\theta$, such that $x = g(\\theta) = \\theta + \\sigma \\epsilon$, where $\\epsilon \\sim \\mathcal{N}(0, I)$, and $p(x)dx = p(\\epsilon)d\\epsilon$. This estimator typically shows lower variance than the score function estimator, which is beneficial, as it means we don't have to draw as many samples to get  good estimate. To show a concrete example of this estimator in action, we will use the previous example of $f(x) = x^2$:\n",
    "\n",
    "$\\nabla_x f(x) = 2x$\n",
    "\n",
    "$\\nabla_{\\theta} g(\\theta) = 1$\n",
    "\n",
    "$\\nabla_x f(g(\\theta; \\epsilon)) \\nabla_{\\theta} g(\\theta) = 2 (\\theta + \\sigma \\epsilon)$\n",
    "\n",
    "Since $\\epsilon$ is $\\mathcal{N}(0, I)$, it has expectation zero, meaning that $\\mathbf{E}_{\\epsilon \\sim p}\\left[\\nabla_x f(x) \\nabla_{\\theta} g(\\theta)\\right] = 2\\theta$ at our parameter point $\\theta$.\n",
    "\n",
    "In code below:"
   ]
  },
  {
   "cell_type": "code",
   "execution_count": 33,
   "metadata": {},
   "outputs": [
    {
     "name": "stdout",
     "output_type": "stream",
     "text": [
      "gradient of f(x) at point 3.00: 5.98\n"
     ]
    }
   ],
   "source": [
    "import numpy as np\n",
    "\n",
    "grad_f = lambda x: 2 * x\n",
    "grad_x = lambda theta: 1\n",
    "\n",
    "samples = 1000\n",
    "theta = 3\n",
    "x = theta + np.random.normal(0, 1, samples)\n",
    "grad = np.mean(grad_f(x) * grad_x(theta))\n",
    "print(\"gradient of f(x) at point {:.2f}: {:.2f}\".format(theta, grad))"
   ]
  },
  {
   "cell_type": "markdown",
   "metadata": {},
   "source": [
    "We can also combine importance sampling with the change of variables estimator. If we analyze the simple example above, we can see that for a distribution $p(\\epsilon)$:\n",
    "\n",
    "$\\mu_\\epsilon = \\theta$\n",
    "\n",
    "$\\sigma_\\epsilon = \\sigma$\n",
    "\n",
    "Where we typically choose $\\sigma = 1$. For $f(x) = x^2$, our gradient function evaluates to:\n",
    "\n",
    "$2 (\\theta + \\sigma \\epsilon) = 2\\theta + \\sigma\\epsilon$\n",
    "\n",
    "As mentioned previously, since $\\mathbb{E}[\\epsilon] = 0$, the second term disappears, leaving us with the analytical gradient of $f(x)$. If $\\epsilon \\sim \\mathcal{N}(\\mu_q, \\sigma_q)$ for $\\mu_q \\neq 0$, the second term no longer disappears. To get the importance sampling estimate, we need to sample $\\epsilon \\sim q(\\epsilon)$ as above, and then do an importance sampling correction when taking the expectation:\n",
    "\n",
    "$x = \\theta + \\sigma_p \\epsilon$\n",
    "\n",
    "$\\mathbf{E}_{\\epsilon \\sim p}\\left[\\nabla_x f(x(\\theta)) \\nabla_{\\theta} g(\\theta)\\right] = \\mathbf{E}_{\\epsilon \\sim q}\\left[\\frac{p(\\epsilon)}{q(\\epsilon)}\\nabla_x f(x(\\theta)) \\nabla_{\\theta} x(\\theta)\\right]$\n",
    "\n",
    "For $\\epsilon \\sim q(\\epsilon)$.\n",
    "\n",
    "This is shown in the below code:"
   ]
  },
  {
   "cell_type": "code",
   "execution_count": 21,
   "metadata": {},
   "outputs": [
    {
     "name": "stdout",
     "output_type": "stream",
     "text": [
      "gradient of f(x) at point 3.00: 5.89\n"
     ]
    }
   ],
   "source": [
    "import numpy as np\n",
    "from math import pi, log, sqrt\n",
    "\n",
    "grad_f = lambda x: 2 * x\n",
    "grad_x = lambda theta: 1\n",
    "normal_pdf = lambda x, mu, sigma: 1/(sigma * sqrt(2 * pi)) * np.exp(-0.5 * ((x - mu) / sigma) ** 2)\n",
    "\n",
    "samples = 100000\n",
    "theta = 3\n",
    "\n",
    "mu_p = theta\n",
    "sigma_p = 1\n",
    "\n",
    "mu_q = theta\n",
    "sigma_q = 15\n",
    "\n",
    "x = mu_p + sigma_p * np.random.normal(mu_q, sigma_q, size=samples)\n",
    "w = normal_pdf(x, mu_p, sigma_p) / normal_pdf(x, mu_q, sigma_q)\n",
    "grad = np.mean(w * grad_f(x) * grad_x(theta))\n",
    "print(\"gradient of f(x) at point {:.2f}: {:.2f}\".format(theta, grad))"
   ]
  },
  {
   "cell_type": "markdown",
   "metadata": {},
   "source": [
    "To show that the score function estimator (empirically) has lower variance than the score function estimator, we run Monte Carlo simulations to find the gradient of the same function below, and compare the estimated variance:"
   ]
  },
  {
   "cell_type": "code",
   "execution_count": 79,
   "metadata": {},
   "outputs": [
    {
     "name": "stdout",
     "output_type": "stream",
     "text": [
      "score function gradient estimate:  5.98636276835\n",
      "reparameterized gradient estimate:  5.99773034292\n",
      "variance of score function method:  0.228829813057\n",
      "variance of reparameterization method:  0.00437956381245\n"
     ]
    }
   ],
   "source": [
    "import numpy as np\n",
    "\n",
    "grad_f = lambda x: 2 * x\n",
    "grad_x = lambda theta: 1\n",
    "grad_log_prob = lambda theta, x: (x - theta)\n",
    "\n",
    "theta = 3\n",
    "score_fn = []\n",
    "reparam = []\n",
    "for i in range(100):\n",
    "    samples = 1000\n",
    "    x = theta + np.random.normal(0, 1, samples)\n",
    "    glp = grad_log_prob(theta, x)\n",
    "    score_fn_grad = np.mean(glp * f(x))\n",
    "    reparam_grad = np.mean(grad_f(x) * grad_x(theta))\n",
    "    score_fn.append(score_fn_grad)\n",
    "    reparam.append(reparam_grad)\n",
    "    \n",
    "sf = np.array(score_fn)\n",
    "rp = np.array(reparam)\n",
    "print(\"score function gradient estimate: \", np.mean(sf))\n",
    "print(\"reparameterized gradient estimate: \", np.mean(rp))\n",
    "print(\"variance of score function method: \", np.std(sf) ** 2)\n",
    "print(\"variance of reparameterization method: \", np.std(rp) ** 2)"
   ]
  },
  {
   "cell_type": "markdown",
   "metadata": {},
   "source": [
    "As we can see for this simple example, the change of variables method has on the order of 100x less variance than the score function method. The disadvantage of the method is that it requires $f(x)$ to be a differentiable function, whereas the score function method doesn't. This makes the score function method much more general, but it comes at the cost of high variance, which, for problems with a high number of dimensions, can make it inefficient or otherwise useless. To get around this, we will go through some general techniques for variance reduction that can be applied to Monte Carlo methods, and show how these can be used to reduce the variance of the score function estimator.\n",
    "\n",
    "## 4. Variance Reduction Techniques\n",
    "In this section, we'll cover a few variance reduction techniques that can improve our estimate of the value that we're interested in. The motivation here is that it lets us scale up our methods when we have many parameters, and makes solving more difficult problems feasible. In the case of the score function gradient estimator in particular, the variance of the estimator makes it ineffective in many applications without some form of variance reduction.\n",
    "\n",
    "Since the error of Monte Carlo estimates scales with $\\frac{\\sigma}{\\sqrt{n}}$, where $\\sigma$ is the standard deviation of the estimator, and $n$ is the number of samples, the two methods of reducing variance are either increasing the number of samples, or finding a better estimator. The below methods do exactly that. \n",
    "\n",
    "\n",
    "### 4.1 Control Variates\n",
    "A control variate typically involves using partial information to help make solving the problem easier. Consider:\n",
    "\n",
    "$\\mathbf{E}_{x \\sim p}\\left[f(x)\\right] = \\mathbf{E}_{x \\sim p}\\left[f(x) - b g(x)\\right] + b\\mathbf{E}_{x \\sim p}\\left[g(x)\\right]$\n",
    "\n",
    "Or alternatively:\n",
    "\n",
    "$\\mathbf{E}_{x \\sim p}\\left[f(x)\\right] = \\mathbf{E}_{x \\sim p}\\left[f(x) + b g(x)\\right] - b\\mathbf{E}_{x \\sim p}\\left[g(x)\\right]$\n",
    "\n",
    "\n",
    "This is just a fancy way of adding and subtracting the value of some function $g(x)$ that has zero net effect in expectation. The variance of this new estimator is:\n",
    "\n",
    "$Var(f - g) = Var(f) - 2bCov(f, g) + b^2Var(g)$\n",
    "\n",
    "$Var(f + g) = Var(f) + 2bCov(f, g) + b^2Var(g)$\n",
    "\n",
    "If the two functions $f$ and $g$ are correlated, then $Var(f - g)$ of a Monte Carlo estimate of f can be lower than $Var(f)$ (and similarly if the two functions are inversely correlated). Furthermore, the form of the variance suggests that there is an optimal constant $b$ that reduces variance to a minimum. Consider:\n",
    "\n",
    "$\\frac{d}{db}Var(f + g) = 2Cov(f, g) + 2bVar(g) = 0$\n",
    "\n",
    "$b^* = -\\frac{cov(f, g)}{Var(g)}$\n",
    "\n",
    "This implies that any correlated function will lower the variance of our Monte Carlo estimator, provided we can compute $b^*$, as the sign of the correlation will be absorbed into $b^*$.\n",
    "\n",
    "To illustrate control variates in action, we will integrate the funtion:\n",
    "\n",
    "$f(u) = \\int_{0}^{1} \\frac{1}{u + 1} du$\n",
    "\n",
    "Choosing the control variate:\n",
    "\n",
    "$g(u) = \\int_{0}^{1} (u + 1) du = \\left[\\frac{u^2}{2} + u\\right]_{0}^1 = \\frac{3}{2}$\n",
    "\n",
    "Our problem now becomes:\n",
    "\n",
    "$\\mathbf{E}_{x \\sim p} \\left[\\int_0^1 f(u) du\\right] = \\mathbf{E}_{x \\sim p} \\left[\\int_0^1 \\frac{1}{u + 1} du + \\int_{0}^{1} (u + 1) du\\right] - 3/2$\n",
    "\n",
    "Solving this problem below, with the constant $b \\approx 0.4773$ gives:"
   ]
  },
  {
   "cell_type": "code",
   "execution_count": 32,
   "metadata": {},
   "outputs": [
    {
     "name": "stdout",
     "output_type": "stream",
     "text": [
      "cv integral estimate:  0.693157238984\n",
      "std integral estimate:  0.693676776286\n",
      "cv2 integral estimate:  0.694196313587\n",
      "variance of control variate method:  3.57202528261e-07\n",
      "variance of standard method:  1.2601542731e-05\n",
      "variance of control variate 2:  4.92982212049e-05\n"
     ]
    }
   ],
   "source": [
    "import numpy as np\n",
    "from math import pi, log\n",
    "\n",
    "f = lambda u: 1 / (u + 1)\n",
    "g = lambda u: u + 1\n",
    "\n",
    "samples = 1500\n",
    "a, b = 0, 1\n",
    "c = 0.4773\n",
    "\n",
    "control_variate = []\n",
    "standard = []\n",
    "cv2 = []\n",
    "for i in range(100):\n",
    "    u = np.random.uniform(a, b, samples)\n",
    "    int_f = np.mean(f(u))*(b - a)\n",
    "    int_g = np.mean(g(u))*(b - a)\n",
    "    total = int_f + c*(int_g - 3/2)\n",
    "    control_variate.append(total)\n",
    "    standard.append(int_f)\n",
    "    cv2.append(int_f - c*(int_g - 3/2))\n",
    "    \n",
    "cv = np.array(control_variate)\n",
    "cv2 = np.array(cv2)\n",
    "st = np.array(standard)\n",
    "print(\"cv integral estimate: \", np.mean(cv))\n",
    "print(\"std integral estimate: \", np.mean(st))\n",
    "print(\"cv2 integral estimate: \", np.mean(cv2))\n",
    "print(\"variance of control variate method: \", np.std(cv) ** 2)\n",
    "print(\"variance of standard method: \", np.std(st) ** 2)\n",
    "print(\"variance of control variate 2: \", np.std(cv2) ** 2)"
   ]
  },
  {
   "cell_type": "markdown",
   "metadata": {},
   "source": [
    "As we can see, the control variate method has on the order of 100 times less variance than the standard Monte Carlo estimate. Typically, a control variate will not have such a profound effect on the variance, though reductions of 25-30% are reasonably common. Notably, the second method where we reversed the correlation between the control variate and $f(u)$ resulted in higher overall variance than the standard estimator (note that this is the minimum variance). This is something to be aware of, and why it is critical to calculate the optimatal constant $b^*$ (this may involve solving a least-squares problem using an estimate of the variance and covariance).\n",
    "\n",
    "Finally, we can also stack control variates to reduce variance even further -- that is, we can use as many control variates as we like, so long as the additional functions are correlated with the function that we're interested in, and easy to solve. For each control variate, we want to solve for the constant that minimizes variance, which results in a least squares problem."
   ]
  },
  {
   "cell_type": "markdown",
   "metadata": {},
   "source": [
    "### 4.2 Common Random Numbers\n",
    "Common random numbers are typically used when you want to estimate a value of the form:\n",
    "\n",
    "$\\mathbb{E}\\left[f(x)\\right] - \\mathbb{E}\\left[g(x)\\right] = \\mu_1 - \\mu_2$\n",
    "\n",
    "As will become a common theme in our variance reduction methods, if we can find some way of introducing correlation into our function approximation, we can use this to reduce the variance of our estimate. In the case of control variates, we did this by introducing a new function that is correlated with our original function, and finding a tuning constant that provably reduces variance. In the case of common random numbers, rather than sampling $x_1 \\sim p$ and $x_2 \\sim q$, and estimating $\\mathbb{E}\\left[f(x_1)\\right] - \\mathbb{E}\\left[g(x_2)\\right]$ we will instead come up with some procedure $x_3$ such that our samples of $x_1$ and $x_2$ are correlated, and estimate our function using these correlated samples.\n",
    "\n",
    "So how do we do this? One way that is covered further on is called the antithetic variate, which generates negatively correlated samples. In this case, however, we will use a method called a copula to sample $x$ and $y$ from a correlated multivariate distribution. The idea behind this method is that we can convert between distributions by using a uniform distribution as a lingua franca. For example, if we sample $x \\sim \\mathcal{N}(0, I)$, $CDF(x)$ will be uniformly distributed. We can use the inverse CDF of a known function to transform our uniform distribution into a different distribution.\n",
    "\n",
    "So how do we use this? Well, we first define a bivariate normal distribution, and sample $x, y$. Next, we use the CDF for the normal distribution to transform our samples into correlated uniform samples, and then evaluate our function. This seems like a lot, but in code it's fairly straightforward:"
   ]
  },
  {
   "cell_type": "code",
   "execution_count": 1,
   "metadata": {},
   "outputs": [
    {
     "name": "stdout",
     "output_type": "stream",
     "text": [
      "cv integral estimate:  -0.806923207618\n",
      "std integral estimate:  -0.808428911966\n",
      "variance of control variate method:  3.18745160412e-05\n",
      "variance of standard method:  0.000104896021892\n"
     ]
    },
    {
     "data": {
      "image/png": "[encoded data removed]",
      "text/plain": [
       "<Figure size 432x288 with 1 Axes>"
      ]
     },
     "metadata": {},
     "output_type": "display_data"
    }
   ],
   "source": [
    "import numpy as np\n",
    "from math import pi, log\n",
    "from scipy import stats\n",
    "import matplotlib.pyplot as plt\n",
    "\n",
    "f = lambda u: 1 / (u + 1)\n",
    "g = lambda u: u + 1\n",
    "\n",
    "samples = 1500\n",
    "a, b = 0, 1\n",
    "c = 0.4773\n",
    "corr = -np.linspace(0, 0.99, 100)\n",
    "\n",
    "mu = np.zeros((2,))\n",
    "norm = stats.norm()\n",
    "data_crn = []\n",
    "data_std = []\n",
    "for c in corr:\n",
    "    crn = []\n",
    "    standard = []\n",
    "    cov = np.array([[1, c],\n",
    "                    [c, 1]])\n",
    "    mvnorm = stats.multivariate_normal(mean=mu, cov=cov)\n",
    "    for i in range(100):\n",
    "        u = np.random.uniform(a, b, samples)\n",
    "        x = mvnorm.rvs(int(samples/2))\n",
    "        u_1, u_2 = norm.cdf(np.array(x[:,0])), norm.cdf(np.array(x[:,1]))\n",
    "        f_x = np.mean(f(u))\n",
    "        g_x = np.mean(g(u))\n",
    "        crn_est = np.mean(f(u_1) - g(u_2))\n",
    "        std = f_x - g_x\n",
    "        crn.append(crn_est)\n",
    "        standard.append(std)\n",
    "    \n",
    "    crn = np.array(crn)\n",
    "    standard = np.array(standard)\n",
    "    data_crn.append(np.std(crn) ** 2)\n",
    "    data_std.append(np.std(standard) ** 2)\n",
    "print(\"cv integral estimate: \", np.mean(crn))\n",
    "print(\"std integral estimate: \", np.mean(standard))\n",
    "print(\"variance of control variate method: \", np.std(crn) ** 2)\n",
    "print(\"variance of standard method: \", np.std(standard) ** 2)\n",
    "\n",
    "# imperative style plotting in pyplot\n",
    "plt.plot(-corr, np.array(data_crn))\n",
    "plt.plot(-corr, np.array(data_std))\n",
    "plt.xlabel('Correlation in x and y')\n",
    "plt.ylabel('Variance (100 Trials)')\n",
    "plt.title('Variance of Correlated vs Uncorrelated Monte Carlo Estimation')\n",
    "plt.legend([\"CRN\", \"STD\"])\n",
    "plt.show()"
   ]
  },
  {
   "cell_type": "markdown",
   "metadata": {},
   "source": [
    "As we can see from this example, we managed a roughly 10-fold reduction in variance using correlated sampling. Not bad for a first cut! Plotting the variance as a function of the negative correlation in our copula, we can see that increasing the correlation decreases variance almost linearly in the regime we're looking at. As expected, with zero correlation, there's no difference between the estimates of the two methods.\n",
    "\n",
    "### 4.3 Conditioning\n",
    "\n",
    "Conditioning (sometimes called Rao-Blackwellization) is where we partially solve the problem analytically, to reduce its dimensionality. Rather than solving the full multidimensional problem, we reduce the dimensionality and solve a lower dimensional problem instead. This is beneficial because conditional Monte Carlo estimation cannot have higher variance than ordinary Monte Carlo estimation, and will typically have strictly lower variance. This is because:\n",
    "\n",
    "$Var(f(x,y)) = \\mathbf{E}\\left[Var(f(x,y)|x)\\right] + Var(\\mathbf{E}\\left[f(x,y)|x\\right])$\n",
    "\n",
    "By partially solving the problem, we eliminate the variance associated with $h(x) = \\mathbf{E}\\left[f(x,y)|x\\right]$, and so the variance of a Monte Carlo solution to $h(x)$ will always be strictly less than or equal to the variance of a Monte Carlo solution of $f(x,y)$.\n",
    "\n",
    "For a concrete example, consider the function:\n",
    "\n",
    "$f(x, y) = \\int_{0}^2\\int_{0}^1 e^{g(x)y} dx dy$\n",
    "\n",
    "For $g(x) = \\sqrt{5/4 + \\cos(2\\pi x)}$\n",
    "\n",
    "We can hold $g(x)$ constant and integrate out $y$, leaving $h(x) = (e^{2 g(x)} - 1)/g(x)$. Solving this problem will yield the same result as the original, with much lower variance, as we will see below. "
   ]
  },
  {
   "cell_type": "code",
   "execution_count": 22,
   "metadata": {},
   "outputs": [
    {
     "name": "stdout",
     "output_type": "stream",
     "text": [
      "conditioned integral estimate:  7.79021514443\n",
      "std integral estimate:  7.76403442803\n",
      "variance of conditioned method:  0.00604412984845\n",
      "variance of standard method:  0.0248584548282\n"
     ]
    }
   ],
   "source": [
    "import numpy as np\n",
    "from math import pi\n",
    "\n",
    "f = lambda x, y : np.exp(g(x) * y)\n",
    "g = lambda x : np.sqrt(5/4 + np.cos(2 * pi * x))\n",
    "h = lambda x : (np.exp(2 * g(x)) - 1)/g(x)\n",
    "\n",
    "samples = 1500\n",
    "a, b = 0, 1\n",
    "c, d = 0, 2\n",
    "\n",
    "conditioned = []\n",
    "standard = []\n",
    "for i in range(100):\n",
    "    x = np.random.uniform(a, b, int(samples))\n",
    "    y = np.random.uniform(c, d, int(samples))\n",
    "    z = np.random.uniform(a, b, samples)\n",
    "    \n",
    "    f_xy = np.mean(f(x, y)) * (b - a) * (d - c) \n",
    "    h_x = np.mean(h(z)) * (b - a)\n",
    "    \n",
    "    standard.append(f_xy)\n",
    "    conditioned.append(h_x)\n",
    "    \n",
    "cnd = np.array(conditioned)\n",
    "st = np.array(standard)\n",
    "print(\"conditioned integral estimate: \", np.mean(cnd))\n",
    "print(\"std integral estimate: \", np.mean(st))\n",
    "print(\"variance of conditioned method: \", np.std(cnd) ** 2)\n",
    "print(\"variance of standard method: \", np.std(st) ** 2)"
   ]
  },
  {
   "cell_type": "markdown",
   "metadata": {},
   "source": [
    "In this case, the conditioned estimator has much lower variance than our estimate of the original function. Though this technique will always yield an estimator that is as good as or better than the original, it may nevertheless not be worth implementing in cases where partially solving the function results in a more expensive function evaluation than the original. For example, the function:\n",
    "\n",
    "$f(x) = \\cos\\left(g(x_1) + \\sum_{i=1}^d a_i x_i\\right)$\n",
    "\n",
    "Can be conditioned to give:\n",
    "\n",
    "$h(x) = \\left(\\sin\\left(g(x_1) + \\sum_{i=1}^{d-1} a_i x_i + a_d\\right)\\right) - \\left(\\sin\\left(g(x_1) + \\sum_{i=1}^{d-1} a_i x_i\\right)\\right)$\n",
    "\n",
    "Doing so results in an estimator that requires $2\\times (d-1)$ evaluations of the trig functions, instead of just $d$, meaning that our estimator will now be much slower. This type of scenario is something to keep in mind when applying this technique.\n",
    "\n",
    "### 4.4 Antithetic Variates\n",
    "The idea of antithetic variates is that we can generate a new sample $\\mathbf{X}$ based on our knowledge of $f(X)$ such that $f(\\mathbf{X})$ is negatively correlated with $f(X)$. When this is the case, we can reduce the variance of our estimate of $f(X)$. Denoting $f(\\mathbf{X})$ as $g(X)$:\n",
    "\n",
    "$Var\\left(\\frac{f + g}{2}\\right) = \\frac{Var(f) + 2 Cov(f,g) + Var(g)}{4}$\n",
    "\n",
    "The idea of this method is that we generate samples $u_0, u_1, u_2, ..., u_N$ and a second set of samples $v_0, v_1, v_2, ..., v_N$ that are negatively correlated with $u$. For $u \\sim \\mathcal{U}(a,b)$, we can do this using $v = b - u + a$. For $u \\sim \\mathcal{N}(\\mu, \\sigma)$, then $v = -u$. From there, we can estimate the function using:\n",
    "\n",
    "$\\mathbb{E}\\left[f(x)\\right] = \\frac{\\mathbb{E}\\left[f(u)\\right] + \\mathbb{E}\\left[f(v)\\right]}{2}$\n",
    "\n",
    "This estimator is unbiased, and will have lower variance than the standard Monte Carlo estimation. In code below:"
   ]
  },
  {
   "cell_type": "code",
   "execution_count": 33,
   "metadata": {},
   "outputs": [
    {
     "name": "stdout",
     "output_type": "stream",
     "text": [
      "av integral estimate:  4.32268697567\n",
      "std integral estimate:  4.32468800581\n",
      "variance of antithetic variate method:  0.00505727763704\n",
      "variance of standard method:  0.0242148377355\n"
     ]
    }
   ],
   "source": [
    "import numpy as np\n",
    "\n",
    "f = lambda x : x**2\n",
    "\n",
    "samples = 1000\n",
    "a, b = -1, 4\n",
    "\n",
    "antithetic_variate = []\n",
    "standard = []\n",
    "for i in range(100):\n",
    "    u = np.random.uniform(a, b, samples)\n",
    "    v = b - u[:int(samples/2)] + a\n",
    "    f_x = np.mean(f(u))\n",
    "    f_anti = np.mean((f(u[:int(samples/2)])+f(v))/2)\n",
    "    antithetic_variate.append(f_anti)\n",
    "    standard.append(f_x)\n",
    "    \n",
    "av = np.array(antithetic_variate)\n",
    "st = np.array(standard)\n",
    "print(\"av integral estimate: \", np.mean(av))\n",
    "print(\"std integral estimate: \", np.mean(st))\n",
    "print(\"variance of antithetic variate method: \", np.std(av) ** 2)\n",
    "print(\"variance of standard method: \", np.std(st) ** 2)"
   ]
  },
  {
   "cell_type": "markdown",
   "metadata": {},
   "source": [
    "As we can see from the above example, the antithetic variate estimate has on the order of 10-100 times less variance than the standard method, even for the same number of samples.\n",
    "\n",
    "### 4.5 Stratification\n",
    "Stratification involves breaking the sampling space up into smaller intervals, and sampling from each of those intervals separately. Intuitively, this gives us a more even coverage of the space, and so reduces the variance of the estimate (taking this to the extreme, numerical integration with a fixed step size can be seen as a special case of stratification, and has a variance of 0).\n",
    "\n",
    "One of the inherent advantages of stratification is that we can save computation in regions that are relatively flat, by drawing fewer samples there. Intuitively, if $f(x)$ is constant in the interval $[a,b]$ we can know the value of $f(x)$ in that region with only a single function call. We can't assume to know this in a typical case, though with some analysis of our function, it may become reasonably apparent.\n",
    "\n",
    "An example of stratification is given in the following code:"
   ]
  },
  {
   "cell_type": "code",
   "execution_count": 5,
   "metadata": {},
   "outputs": [
    {
     "name": "stdout",
     "output_type": "stream",
     "text": [
      "Standard estimate is:  5.338110278\n",
      "Stratified estimate is:  5.33485110099\n",
      "Standard std is:  0.15527153461\n",
      "Stratified std is:  0.0152856249486\n"
     ]
    }
   ],
   "source": [
    "import numpy as np\n",
    "\n",
    "f = lambda x : x ** 2\n",
    "\n",
    "samples = 1000\n",
    "a, b = 0, 4\n",
    "strata = 10\n",
    "da = (b - a) / strata\n",
    "s = int(samples / strata)\n",
    "standard = []\n",
    "stratified = []\n",
    "for i in range(100):\n",
    "    a_ = 0\n",
    "    f_x = 0\n",
    "    for j in range(strata):\n",
    "        u = np.random.uniform(a_, a_ + da, s)\n",
    "        f_x += np.sum(f(u))\n",
    "        a_ += da\n",
    "    f_x /= samples\n",
    "    v = np.random.uniform(a, b, samples)\n",
    "    f_v = np.mean(f(v))\n",
    "    standard.append(f_v)\n",
    "    stratified.append(f_x)\n",
    "\n",
    "standard = np.array(standard)\n",
    "stratified = np.array(stratified)\n",
    "print(\"Standard estimate is: \", np.mean(standard))\n",
    "print(\"Stratified estimate is: \", np.mean(stratified))\n",
    "print(\"Standard std is: \", np.std(standard))\n",
    "print(\"Stratified std is: \", np.std(stratified))"
   ]
  },
  {
   "cell_type": "markdown",
   "metadata": {},
   "source": [
    "As we can see, in this case, the variance of the estimate is reduced to a 10th of the normal Monte Carlo estimate.\n",
    "\n",
    "## 5. Conclusion\n",
    "In this workbook, we went through a few common Monte Carlo function approximation methods that see common use in areas such as finance, and machine learning / AI. In addition, we covered a several variance reduction techniques that can dramatically improve the performance of the given methods, and make difficult problems more tractable. Though the examples given are necessarily straightforward, it is nevertheless hoped that they provide a springboard for more interesting applications of these techniques!"
   ]
  }
 ],
 "metadata": {
  "kernelspec": {
   "display_name": "Python 3",
   "language": "python",
   "name": "python3"
  },
  "language_info": {
   "codemirror_mode": {
    "name": "ipython",
    "version": 3
   },
   "file_extension": ".py",
   "mimetype": "text/x-python",
   "name": "python",
   "nbconvert_exporter": "python",
   "pygments_lexer": "ipython3",
   "version": "3.6.5"
  }
 },
 "nbformat": 4,
 "nbformat_minor": 2
}
